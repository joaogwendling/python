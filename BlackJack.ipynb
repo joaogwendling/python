{
  "nbformat": 4,
  "nbformat_minor": 0,
  "metadata": {
    "colab": {
      "name": "BlackJack.ipynb",
      "provenance": []
    },
    "kernelspec": {
      "name": "python3",
      "display_name": "Python 3"
    }
  },
  "cells": [
    {
      "cell_type": "markdown",
      "metadata": {
        "id": "q2qEu6GKbwaT"
      },
      "source": [
        "# BlackJack\r\n",
        "\r\n",
        "\r\n",
        "Pequeno projeto programando em Python o jogo de cartas 21 (ou \"BlackJack\").\r\n",
        "\r\n",
        "Joga um jogador contra a banca. Cada carta tem uma pontuação. Ambos recebem duas cartas e o objetivo do jogador é ter em suas cartas, uma soma de pontos maior que a da banca, mas não passar do limite de 21. "
      ]
    },
    {
      "cell_type": "markdown",
      "metadata": {
        "id": "GBJ_zkbzcqeU"
      },
      "source": [
        "Primeiramente, iremos importar algumas bibliotecas que usaremos, bem como definir as variáveis `hand1` e `hand2`, que são as mãos do jogador e da banca, respectivamente."
      ]
    },
    {
      "cell_type": "code",
      "metadata": {
        "id": "b4mFZTZHQjHL"
      },
      "source": [
        "import numpy as np\r\n",
        "import time\r\n",
        "\r\n",
        "hand1 = []\r\n",
        "hand2 = []"
      ],
      "execution_count": null,
      "outputs": []
    },
    {
      "cell_type": "markdown",
      "metadata": {
        "id": "5KC5O_ipdQA5"
      },
      "source": [
        "Em seguida, definimos a função `draw()`, que escolhe uma entre as 13 opções de cartas do baralho."
      ]
    },
    {
      "cell_type": "code",
      "metadata": {
        "id": "hLF0mLnKdMQm"
      },
      "source": [
        "def draw():\r\n",
        "    return np.random.choice([ 'A','2','3','4','5','6','7','8','9','10','J','Q','K' ])"
      ],
      "execution_count": null,
      "outputs": []
    },
    {
      "cell_type": "markdown",
      "metadata": {
        "id": "1D0NwOFld2Wm"
      },
      "source": [
        "A próxima função é usada para contar a pontuação que uma determinada mão representa. Cada carta tem um determinado valor, sendo:\r\n",
        "\r\n",
        "* Cartas de 2 a 10 tem valor conforme o número\r\n",
        "* Cartas J, Q e K tem valor 10\r\n",
        "* Ás pode ter valor 1 ou 11, podendo variar para maximizar a pontuação, mas não ultrapassando o limite de 21\r\n",
        "\r\n",
        "Exemplos de pontuações:\r\n",
        "* 7 e 9 resultam em 16 pontos\r\n",
        "* Q e 8 resultam em 18 pontos\r\n",
        "* 6 e A resultam em 7 ou 17 pontos"
      ]
    },
    {
      "cell_type": "code",
      "metadata": {
        "id": "wQCT50u2IRuV"
      },
      "source": [
        "def pointcount(hand):\r\n",
        "    '''Dado um conjunto de cartas, retorna a pontuação equivalente da mão\r\n",
        "    Exemplo:\r\n",
        "    >>> pointcount(['4','9'])\r\n",
        "    >>> 13\r\n",
        "    '''\r\n",
        "\r\n",
        "    # Lista das cartas possíveis, e seus respectivos pontos\r\n",
        "    cards  = [ 'A','2','3','4','5','6','7','8','9','10','J','Q','K' ] \r\n",
        "    points = [  1 , 2,  3,  4,  5,  6,  7,  8,  9,  10,  10, 10, 10 ]\r\n",
        "\r\n",
        "    # Definindo a contagem de pontos e a de áses\r\n",
        "    handpoints = 0\r\n",
        "    aces = 0\r\n",
        "\r\n",
        "    # Itera sobre cada carta da mão. Se a carta é um 'A', aumenta a contagem de áses,\r\n",
        "    # se não, aumenta a contagem de pontos\r\n",
        "    for card in hand:\r\n",
        "        if card == 'A':\r\n",
        "            aces += 1\r\n",
        "        else: handpoints += points[cards.index(card)]\r\n",
        "\r\n",
        "    # Agora que a contagem preliminar - sem áses - está feita, hora de contá-los\r\n",
        "\r\n",
        "    # Primeiramente, soma o valor de 1 a pontuação da mão. 1 é o valor mínimo de um ás\r\n",
        "    handpoints += aces*1\r\n",
        "\r\n",
        "    # Feito isso, checa se a pontuação é baixa o suficiente para considerarmos um ás\r\n",
        "    # como 11 pontos, mas não ultrapassando o limite de 21\r\n",
        "    while handpoints<=11 and aces>0:\r\n",
        "        handpoints += 10\r\n",
        "        aces -= 1\r\n",
        "\r\n",
        "    # Feito isso, a função retorna a contagem final de pontos\r\n",
        "    return handpoints\r\n"
      ],
      "execution_count": null,
      "outputs": []
    },
    {
      "cell_type": "markdown",
      "metadata": {
        "id": "jZxBX6ebiOoz"
      },
      "source": [
        "A próxima função define o início de um jogo. Quando o jogo se inicia, o jogador e a banca recebem 2 cartas, sendo que apenas 1 carta da banca fica a mostra."
      ]
    },
    {
      "cell_type": "code",
      "metadata": {
        "id": "UEaiZN2aqMpn"
      },
      "source": [
        "def startnewgame():\r\n",
        "    # Primeiramente limpa os valores das mãos\r\n",
        "    hand1.clear()\r\n",
        "    hand2.clear()\r\n",
        "\r\n",
        "    print('Novo jogo iniciado')\r\n",
        "    print('\\n')\r\n",
        "    time.sleep(2)\r\n",
        "\r\n",
        "    # Escolhe aleatoriamente as 4 cartas iniciais do jogo, e as adiciona às mãos\r\n",
        "    card1 = draw()\r\n",
        "    hand1.append(card1)\r\n",
        "    card2 = draw()\r\n",
        "    hand2.append(card2)\r\n",
        "    card3 = draw()\r\n",
        "    hand1.append(card3)\r\n",
        "    card4 = draw()\r\n",
        "    hand2.append(card4)\r\n",
        "\r\n",
        "    # Mostra as cartas ao jogador\r\n",
        "    print('Mão do jogador:\\033[1m ' + hand1[0] +' e ' + hand1[1] + '\\033[0m')\r\n",
        "    print('\\n \\n')\r\n",
        "    print('Carta da banca a mostra: ' + hand2[0])\r\n",
        "    print('\\n \\n')\r\n",
        "\r\n",
        "\r\n",
        "    whatnext()"
      ],
      "execution_count": null,
      "outputs": []
    },
    {
      "cell_type": "markdown",
      "metadata": {
        "id": "_4porqhBi-8W"
      },
      "source": [
        "As próximas funções definem o resto do jogo.\r\n",
        "\r\n",
        "Com as cartas definidas, a função `whatnext()` informa ao jogador sua pontuação e dá duas opções a ele:\r\n",
        "1. Receber mais uma carta\r\n",
        "2. Não receber e parar\r\n",
        "\r\n",
        "Recebendo mais uma carta, o jogador tem chance de aumentar sua pontuação. Com uma pontuação grande, ele tem mais chances dela ser maior do que a pontuação da banca, mas existe o risco de essa pontuação ultrapassar os 21 pontos e assim, o jogador perde instantaneamente."
      ]
    },
    {
      "cell_type": "code",
      "metadata": {
        "id": "W1jQljjysAbO"
      },
      "source": [
        "def whatnext():\r\n",
        "    # Calcula a pontuação do jogador e da banca\r\n",
        "    p1score = pointcount(hand1)\r\n",
        "    dealerscore = pointcount(hand2)\r\n",
        "\r\n",
        "    print('\\n')\r\n",
        "\r\n",
        "    # Informa ao jogador a pontuação e pergunta se ele quer continuar\r\n",
        "    print('Jogador, sua pontuação atualmente é: \\033[1m' + str(p1score) + '\\033[0m \\n')\r\n",
        "    answer = input('Deseja mais uma carta? S/N \\n')\r\n",
        "\r\n",
        "    # Caso positivo, uma nova carta é adicionada a mão do jogador\r\n",
        "    if answer in ('S','s'):\r\n",
        "        print('Retirando uma carta para o jogador')\r\n",
        "        newcard = draw()\r\n",
        "        hand1.append(newcard)\r\n",
        "        time.sleep(0.7)\r\n",
        "        print('...')\r\n",
        "        time.sleep(0.7)\r\n",
        "        print('Jogador recebeu carta: ' + newcard)\r\n",
        "        print('\\n')\r\n",
        "        time.sleep(0.7)\r\n",
        "        print('Mão do jogador: ' + ', '.join(hand1))\r\n",
        "        time.sleep(0.7)\r\n",
        "        print('\\n \\n')\r\n",
        "        # É calculado novamente a pontuação dele\r\n",
        "        p1score = pointcount(hand1)\r\n",
        "        if p1score>21:\r\n",
        "            # Caso ela seja superior a 21, o jogo acaba\r\n",
        "            end()\r\n",
        "        elif p1score==21:\r\n",
        "            # Caso ela atinja 21 (o valor máximo), é a vez da banca\r\n",
        "            dealerturn()\r\n",
        "        else:\r\n",
        "            # Caso ela seja menor que 21, o jogador terá a opção novamente de parar ou receber outra carta\r\n",
        "            whatnext()\r\n",
        "\r\n",
        "    # Caso o jogador queira parar, a banca mostra sua outra carta e é a vez dela\r\n",
        "    if answer in ('N','n'):\r\n",
        "        print('Banca mostrou a outra carta, sendo ela: ' + hand2[1] +', resultando na pontuação ' + str(dealerscore))\r\n",
        "        print('\\n ...')\r\n",
        "        time.sleep(0.8)\r\n",
        "        print('Contando os pontos')\r\n",
        "        time.sleep(0.8)\r\n",
        "        print('...')\r\n",
        "        time.sleep(0.8)\r\n",
        "        dealerturn()\r\n",
        "\r\n",
        "# Quando o jogador decide parar, é a vez da banca. A banca deve sacar cartas até atingir o mínimo de 17 pontos\r\n",
        "def dealerturn():\r\n",
        "    dealerscore = pointcount(hand2)\r\n",
        "    while dealerscore < 17:\r\n",
        "        newcard = draw()\r\n",
        "        hand2.append(newcard)\r\n",
        "        print('\\nRetirando uma carta para a banca')\r\n",
        "        time.sleep(0.7)\r\n",
        "        print('...')\r\n",
        "        time.sleep(0.7)\r\n",
        "        print('Banca recebeu carta: ' + newcard)\r\n",
        "        print('\\n')\r\n",
        "        time.sleep(0.7)\r\n",
        "        print(\"Mão da banca: \" + ', '.join(hand2))\r\n",
        "        time.sleep(0.7)\r\n",
        "        print('\\n \\n')\r\n",
        "        dealerscore = pointcount(hand2)\r\n",
        "    end()\r\n",
        "\r\n",
        "# Quando o jogo finaliza, as pontuações são contadas e é definido o ganhador\r\n",
        "def end():\r\n",
        "    p1score = pointcount(hand1)\r\n",
        "    dealerscore = pointcount(hand2)\r\n",
        "    print('Você pontuou \\033[1m' + str(p1score) + \"\\033[0m contra \\033[1m\" + str(dealerscore)+ '\\033[0m da banca\\n')\r\n",
        "    if p1score>21:\r\n",
        "        # Quando a pontuação do jogador excede 21, ele perde\r\n",
        "        print('\\033[1mVocê estourou o limite! Banca venceu\\033[0m')\r\n",
        "    elif dealerscore>21:\r\n",
        "        # O mesmo para a banca\r\n",
        "        print('\\033[1mA Banca estourou! Você venceu\\033[0m')\r\n",
        "    elif p1score>dealerscore:\r\n",
        "        # Se a pontuação do jogador for maior do que a da banca, ele vence\r\n",
        "        print('\\033[1mVocê ganhou! Parabéns\\033[0m')\r\n",
        "    else:\r\n",
        "        # Se não, ele perde\r\n",
        "        print('\\033[1mA banca venceu, mais sorte na próxima vez!\\033[0m')"
      ],
      "execution_count": null,
      "outputs": []
    },
    {
      "cell_type": "markdown",
      "metadata": {
        "id": "_yDA4hG9mCbi"
      },
      "source": [
        "Com tudo definido e pronto, hora de testar a sorte!\r\n"
      ]
    },
    {
      "cell_type": "code",
      "metadata": {
        "colab": {
          "base_uri": "https://localhost:8080/"
        },
        "id": "hrEvli-ErYhT",
        "outputId": "4ecc5111-f84a-48e3-984f-c16e7cdab9ed"
      },
      "source": [
        "startnewgame()"
      ],
      "execution_count": null,
      "outputs": [
        {
          "output_type": "stream",
          "text": [
            "Novo jogo iniciado\n",
            "\n",
            "\n",
            "Mão do jogador:\u001b[1m 2 e 7\u001b[0m\n",
            "\n",
            " \n",
            "\n",
            "Carta da banca a mostra: 6\n",
            "\n",
            " \n",
            "\n",
            "\n",
            "\n",
            "Jogador, sua pontuação atualmente é: \u001b[1m9\u001b[0m \n",
            "\n",
            "Deseja mais uma carta? S/N \n",
            "s\n",
            "Retirando uma carta para o jogador\n",
            "...\n",
            "Jogador recebeu carta: Q\n",
            "\n",
            "\n",
            "Mão do jogador: 2, 7, Q\n",
            "\n",
            " \n",
            "\n",
            "\n",
            "\n",
            "Jogador, sua pontuação atualmente é: \u001b[1m19\u001b[0m \n",
            "\n",
            "Deseja mais uma carta? S/N \n",
            "n\n",
            "Banca mostrou a outra carta, sendo ela: 7, resultando na pontuação 13\n",
            "\n",
            " ...\n",
            "Contando os pontos\n",
            "...\n",
            "\n",
            "Retirando uma carta para a banca\n",
            "...\n",
            "Banca recebeu carta: 6\n",
            "\n",
            "\n",
            "Mão da banca: 6, 7, 6\n",
            "\n",
            " \n",
            "\n",
            "Você pontuou \u001b[1m19\u001b[0m contra \u001b[1m19\u001b[0m da banca\n",
            "\n",
            "\u001b[1mA banca venceu, mais sorte na próxima vez!\u001b[0m\n"
          ],
          "name": "stdout"
        }
      ]
    }
  ]
}