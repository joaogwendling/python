{
  "nbformat": 4,
  "nbformat_minor": 0,
  "metadata": {
    "colab": {
      "name": "Análise Exploratória Simples (Vendas).ipynb",
      "provenance": [],
      "authorship_tag": "ABX9TyODDVJ30LnwO0VMCeytlZ6P",
      "include_colab_link": true
    },
    "kernelspec": {
      "display_name": "Python 3",
      "name": "python3"
    },
    "language_info": {
      "name": "python"
    }
  },
  "cells": [
    {
      "cell_type": "markdown",
      "metadata": {
        "id": "view-in-github",
        "colab_type": "text"
      },
      "source": [
        "<a href=\"https://colab.research.google.com/github/joaogwendling/python/blob/main/An%C3%A1lise_Explorat%C3%B3ria_Simples_(Vendas).ipynb\" target=\"_parent\"><img src=\"https://colab.research.google.com/assets/colab-badge.svg\" alt=\"Open In Colab\"/></a>"
      ]
    },
    {
      "cell_type": "markdown",
      "metadata": {
        "id": "1EAJrOGk57Jv"
      },
      "source": [
        "# **Análise de vendas**\n",
        "Análise exploratória sobre vendas de uma empresa, feita com base [nesse vídeo](https://www.youtube.com/watch?v=eMOA1pPVUc4), como estudo. <sub><sup>[Repo](https://github.com/KeithGalli/Pandas-Data-Science-Tasks/blob/master/SalesAnalysis/SalesAnalysis.ipynb)<sup><sub> \n",
        "\n",
        "Algumas perguntas a serem respondidas com base no csv disponibilizado:\n",
        "\n",
        "\n",
        "*   Qual o produto mais vendido?\n",
        "*   Qual o produto que mais dá receita?\n",
        "*   Qual cidade que mais dá receita?\n",
        "*   Como as vendas se distribuem ao longo do dia?\n",
        "*   Quais produtos são os mais vendidos em conjunto?\n"
      ]
    },
    {
      "cell_type": "markdown",
      "metadata": {
        "id": "9I-QJotbFzdo"
      },
      "source": [
        "## Início\n",
        "Importações das bibliotecas e dos dados"
      ]
    },
    {
      "cell_type": "code",
      "metadata": {
        "id": "dt-UrltD3UE8"
      },
      "source": [
        "import pandas as pd             # para a estrutura de tabela\n",
        "import matplotlib.pyplot as plt # para os gráficos\n",
        "import io                       # e esses dois últimos são\n",
        "from google.colab import files  # para importar o arquivo"
      ],
      "execution_count": null,
      "outputs": []
    },
    {
      "cell_type": "code",
      "metadata": {
        "colab": {
          "resources": {
            "http://localhost:8080/nbextensions/google.colab/files.js": {
              "data": "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",
              "ok": true,
              "headers": [
                [
                  "content-type",
                  "application/javascript"
                ]
              ],
              "status": 200,
              "status_text": ""
            }
          },
          "base_uri": "https://localhost:8080/",
          "height": 72
        },
        "id": "tS7Qw07D4QHS",
        "outputId": "b8a108ad-8850-4348-ae8f-034742f0d27c"
      },
      "source": [
        "uploaded = files.upload()"
      ],
      "execution_count": null,
      "outputs": [
        {
          "output_type": "display_data",
          "data": {
            "text/html": [
              "\n",
              "     <input type=\"file\" id=\"files-7169e21a-3c26-403b-8401-3c186c661184\" name=\"files[]\" multiple disabled\n",
              "        style=\"border:none\" />\n",
              "     <output id=\"result-7169e21a-3c26-403b-8401-3c186c661184\">\n",
              "      Upload widget is only available when the cell has been executed in the\n",
              "      current browser session. Please rerun this cell to enable.\n",
              "      </output>\n",
              "      <script src=\"/nbextensions/google.colab/files.js\"></script> "
            ],
            "text/plain": [
              "<IPython.core.display.HTML object>"
            ]
          },
          "metadata": {
            "tags": []
          }
        },
        {
          "output_type": "stream",
          "text": [
            "Saving all_data.csv to all_data.csv\n"
          ],
          "name": "stdout"
        }
      ]
    },
    {
      "cell_type": "code",
      "metadata": {
        "id": "R64th-D74vUz"
      },
      "source": [
        "file_data = io.BytesIO(uploaded['all_data.csv'])\n",
        "df = pd.read_csv(file_data)"
      ],
      "execution_count": null,
      "outputs": []
    },
    {
      "cell_type": "markdown",
      "metadata": {
        "id": "uct1BRVB_AhV"
      },
      "source": [
        "## Limpeza"
      ]
    },
    {
      "cell_type": "code",
      "metadata": {
        "colab": {
          "base_uri": "https://localhost:8080/",
          "height": 204
        },
        "id": "8EpEYszA5hh1",
        "outputId": "342b678e-1bbb-4091-9f3e-95ce61a21b20"
      },
      "source": [
        "# Podemos ver a estrutura dos dados\n",
        "df.columns=['ID da ordem','Produto','Quantidade','Preço Unitário','Data','Endereço']\n",
        "df.head()"
      ],
      "execution_count": null,
      "outputs": [
        {
          "output_type": "execute_result",
          "data": {
            "text/html": [
              "<div>\n",
              "<style scoped>\n",
              "    .dataframe tbody tr th:only-of-type {\n",
              "        vertical-align: middle;\n",
              "    }\n",
              "\n",
              "    .dataframe tbody tr th {\n",
              "        vertical-align: top;\n",
              "    }\n",
              "\n",
              "    .dataframe thead th {\n",
              "        text-align: right;\n",
              "    }\n",
              "</style>\n",
              "<table border=\"1\" class=\"dataframe\">\n",
              "  <thead>\n",
              "    <tr style=\"text-align: right;\">\n",
              "      <th></th>\n",
              "      <th>ID da ordem</th>\n",
              "      <th>Produto</th>\n",
              "      <th>Quantidade</th>\n",
              "      <th>Preço Unitário</th>\n",
              "      <th>Data</th>\n",
              "      <th>Endereço</th>\n",
              "    </tr>\n",
              "  </thead>\n",
              "  <tbody>\n",
              "    <tr>\n",
              "      <th>0</th>\n",
              "      <td>176558</td>\n",
              "      <td>USB-C Charging Cable</td>\n",
              "      <td>2</td>\n",
              "      <td>11.95</td>\n",
              "      <td>04/19/19 08:46</td>\n",
              "      <td>917 1st St, Dallas, TX 75001</td>\n",
              "    </tr>\n",
              "    <tr>\n",
              "      <th>1</th>\n",
              "      <td>NaN</td>\n",
              "      <td>NaN</td>\n",
              "      <td>NaN</td>\n",
              "      <td>NaN</td>\n",
              "      <td>NaN</td>\n",
              "      <td>NaN</td>\n",
              "    </tr>\n",
              "    <tr>\n",
              "      <th>2</th>\n",
              "      <td>176559</td>\n",
              "      <td>Bose SoundSport Headphones</td>\n",
              "      <td>1</td>\n",
              "      <td>99.99</td>\n",
              "      <td>04/07/19 22:30</td>\n",
              "      <td>682 Chestnut St, Boston, MA 02215</td>\n",
              "    </tr>\n",
              "    <tr>\n",
              "      <th>3</th>\n",
              "      <td>176560</td>\n",
              "      <td>Google Phone</td>\n",
              "      <td>1</td>\n",
              "      <td>600</td>\n",
              "      <td>04/12/19 14:38</td>\n",
              "      <td>669 Spruce St, Los Angeles, CA 90001</td>\n",
              "    </tr>\n",
              "    <tr>\n",
              "      <th>4</th>\n",
              "      <td>176560</td>\n",
              "      <td>Wired Headphones</td>\n",
              "      <td>1</td>\n",
              "      <td>11.99</td>\n",
              "      <td>04/12/19 14:38</td>\n",
              "      <td>669 Spruce St, Los Angeles, CA 90001</td>\n",
              "    </tr>\n",
              "  </tbody>\n",
              "</table>\n",
              "</div>"
            ],
            "text/plain": [
              "  ID da ordem  ...                              Endereço\n",
              "0      176558  ...          917 1st St, Dallas, TX 75001\n",
              "1         NaN  ...                                   NaN\n",
              "2      176559  ...     682 Chestnut St, Boston, MA 02215\n",
              "3      176560  ...  669 Spruce St, Los Angeles, CA 90001\n",
              "4      176560  ...  669 Spruce St, Los Angeles, CA 90001\n",
              "\n",
              "[5 rows x 6 columns]"
            ]
          },
          "metadata": {
            "tags": []
          },
          "execution_count": 45
        }
      ]
    },
    {
      "cell_type": "markdown",
      "metadata": {
        "id": "gbxobPB46nqU"
      },
      "source": [
        "A tabela é composta por 6 colunas. ID da ordem, produto, quantidade, preço unitário, data e endereço. De cara já vimos que existem valores nulos (```NaN```).\n",
        "\n",
        "Podemos procurar as linhas que contém valores nulos com o método ```.isna()``` e ver o número dessas linhas."
      ]
    },
    {
      "cell_type": "code",
      "metadata": {
        "colab": {
          "base_uri": "https://localhost:8080/"
        },
        "id": "wjhOL4UH5nNn",
        "outputId": "78b35b61-64e9-4f41-b7bc-cb1eca731e4b"
      },
      "source": [
        "print('Existem '+ str(df[df.isna().any(axis=1)].shape[0]) +' linhas com valores nulos')\n",
        "print('Que representam '+ \"{:.3%}\".format(df[df.isna().any(axis=1)].shape[0] / df.shape[0]) +' do total de linhas')\n",
        "\n",
        "\n"
      ],
      "execution_count": null,
      "outputs": [
        {
          "output_type": "stream",
          "text": [
            "Existem 545 linhas com valores nulos\n",
            "Que representam 0.292% do total de linhas\n"
          ],
          "name": "stdout"
        }
      ]
    },
    {
      "cell_type": "code",
      "metadata": {
        "colab": {
          "base_uri": "https://localhost:8080/",
          "height": 266
        },
        "id": "YNt8DDJ851HK",
        "outputId": "c631ca3e-5018-4ced-aea3-42fbc48b3570"
      },
      "source": [
        "# e podemos ver uma amostra das linhas com valores nulos para entender seu comportamento\n",
        "df[df.isna().any(axis=1)].sample(7)"
      ],
      "execution_count": null,
      "outputs": [
        {
          "output_type": "execute_result",
          "data": {
            "text/html": [
              "<div>\n",
              "<style scoped>\n",
              "    .dataframe tbody tr th:only-of-type {\n",
              "        vertical-align: middle;\n",
              "    }\n",
              "\n",
              "    .dataframe tbody tr th {\n",
              "        vertical-align: top;\n",
              "    }\n",
              "\n",
              "    .dataframe thead th {\n",
              "        text-align: right;\n",
              "    }\n",
              "</style>\n",
              "<table border=\"1\" class=\"dataframe\">\n",
              "  <thead>\n",
              "    <tr style=\"text-align: right;\">\n",
              "      <th></th>\n",
              "      <th>ID da ordem</th>\n",
              "      <th>Produto</th>\n",
              "      <th>Quantidade</th>\n",
              "      <th>Preço Unitário</th>\n",
              "      <th>Data</th>\n",
              "      <th>Endereço</th>\n",
              "    </tr>\n",
              "  </thead>\n",
              "  <tbody>\n",
              "    <tr>\n",
              "      <th>37439</th>\n",
              "      <td>NaN</td>\n",
              "      <td>NaN</td>\n",
              "      <td>NaN</td>\n",
              "      <td>NaN</td>\n",
              "      <td>NaN</td>\n",
              "      <td>NaN</td>\n",
              "    </tr>\n",
              "    <tr>\n",
              "      <th>82927</th>\n",
              "      <td>NaN</td>\n",
              "      <td>NaN</td>\n",
              "      <td>NaN</td>\n",
              "      <td>NaN</td>\n",
              "      <td>NaN</td>\n",
              "      <td>NaN</td>\n",
              "    </tr>\n",
              "    <tr>\n",
              "      <th>51163</th>\n",
              "      <td>NaN</td>\n",
              "      <td>NaN</td>\n",
              "      <td>NaN</td>\n",
              "      <td>NaN</td>\n",
              "      <td>NaN</td>\n",
              "      <td>NaN</td>\n",
              "    </tr>\n",
              "    <tr>\n",
              "      <th>112146</th>\n",
              "      <td>NaN</td>\n",
              "      <td>NaN</td>\n",
              "      <td>NaN</td>\n",
              "      <td>NaN</td>\n",
              "      <td>NaN</td>\n",
              "      <td>NaN</td>\n",
              "    </tr>\n",
              "    <tr>\n",
              "      <th>41855</th>\n",
              "      <td>NaN</td>\n",
              "      <td>NaN</td>\n",
              "      <td>NaN</td>\n",
              "      <td>NaN</td>\n",
              "      <td>NaN</td>\n",
              "      <td>NaN</td>\n",
              "    </tr>\n",
              "    <tr>\n",
              "      <th>50290</th>\n",
              "      <td>NaN</td>\n",
              "      <td>NaN</td>\n",
              "      <td>NaN</td>\n",
              "      <td>NaN</td>\n",
              "      <td>NaN</td>\n",
              "      <td>NaN</td>\n",
              "    </tr>\n",
              "    <tr>\n",
              "      <th>116757</th>\n",
              "      <td>NaN</td>\n",
              "      <td>NaN</td>\n",
              "      <td>NaN</td>\n",
              "      <td>NaN</td>\n",
              "      <td>NaN</td>\n",
              "      <td>NaN</td>\n",
              "    </tr>\n",
              "  </tbody>\n",
              "</table>\n",
              "</div>"
            ],
            "text/plain": [
              "       ID da ordem Produto Quantidade Preço Unitário Data Endereço\n",
              "37439          NaN     NaN        NaN            NaN  NaN      NaN\n",
              "82927          NaN     NaN        NaN            NaN  NaN      NaN\n",
              "51163          NaN     NaN        NaN            NaN  NaN      NaN\n",
              "112146         NaN     NaN        NaN            NaN  NaN      NaN\n",
              "41855          NaN     NaN        NaN            NaN  NaN      NaN\n",
              "50290          NaN     NaN        NaN            NaN  NaN      NaN\n",
              "116757         NaN     NaN        NaN            NaN  NaN      NaN"
            ]
          },
          "metadata": {
            "tags": []
          },
          "execution_count": 47
        }
      ]
    },
    {
      "cell_type": "code",
      "metadata": {
        "colab": {
          "base_uri": "https://localhost:8080/"
        },
        "id": "2QobKVwp-h3K",
        "outputId": "f8990db4-e1dc-4a4d-b768-e71ed07c35ea"
      },
      "source": [
        "# vemos que as linhas que possuem valores nulos, estão inteiramente nulas, não tendo nenhum valor válido para análise\n",
        "# sendo assim, excluiremos todas essas linhas\n",
        "\n",
        "df = df.dropna(how='all')\n",
        "print('Agora, existem '+ str(df[df.isna().any(axis=1)].shape[0]) +' linhas com valores nulos')"
      ],
      "execution_count": null,
      "outputs": [
        {
          "output_type": "stream",
          "text": [
            "Agora, existem 0 linhas com valores nulos\n"
          ],
          "name": "stdout"
        }
      ]
    },
    {
      "cell_type": "markdown",
      "metadata": {
        "id": "zSIaJkEt_NC2"
      },
      "source": [
        "Como próximo passo, podemos ver os formatos de dados das colunas, para procurar divergências com o esperado "
      ]
    },
    {
      "cell_type": "code",
      "metadata": {
        "colab": {
          "base_uri": "https://localhost:8080/"
        },
        "id": "b5NoWItP_Wnu",
        "outputId": "16a39d76-bb41-43e7-f40e-acc794452469"
      },
      "source": [
        "df.dtypes"
      ],
      "execution_count": null,
      "outputs": [
        {
          "output_type": "execute_result",
          "data": {
            "text/plain": [
              "ID da ordem       object\n",
              "Produto           object\n",
              "Quantidade        object\n",
              "Preço Unitário    object\n",
              "Data              object\n",
              "Endereço          object\n",
              "dtype: object"
            ]
          },
          "metadata": {
            "tags": []
          },
          "execution_count": 49
        }
      ]
    },
    {
      "cell_type": "markdown",
      "metadata": {
        "id": "AxxF1D1f_aCg"
      },
      "source": [
        "Todos os formatos estão como ```object```. Alguns deveriam estar em outros formatos, como números (colunas Quantidade e Preço Unitário) e data (coluna Data). Faremos isso a seguir"
      ]
    },
    {
      "cell_type": "code",
      "metadata": {
        "colab": {
          "base_uri": "https://localhost:8080/",
          "height": 469
        },
        "id": "VjCzb6U6_Xzc",
        "outputId": "7775424b-6753-44bf-e49a-78e6f578a4da"
      },
      "source": [
        "df['Preço Unitário'] = pd.to_numeric(df['Preço Unitário'])\n",
        "df['Quantidade'] = pd.to_numeric(df['Quantidade'])\n",
        "df['Data'] = pd.to_datetime(df['Data'])"
      ],
      "execution_count": null,
      "outputs": [
        {
          "output_type": "error",
          "ename": "ValueError",
          "evalue": "ignored",
          "traceback": [
            "\u001b[0;31m---------------------------------------------------------------------------\u001b[0m",
            "\u001b[0;31mValueError\u001b[0m                                Traceback (most recent call last)",
            "\u001b[0;32mpandas/_libs/lib.pyx\u001b[0m in \u001b[0;36mpandas._libs.lib.maybe_convert_numeric\u001b[0;34m()\u001b[0m\n",
            "\u001b[0;31mValueError\u001b[0m: Unable to parse string \"Price Each\"",
            "\nDuring handling of the above exception, another exception occurred:\n",
            "\u001b[0;31mValueError\u001b[0m                                Traceback (most recent call last)",
            "\u001b[0;32m<ipython-input-50-5c10073e14c4>\u001b[0m in \u001b[0;36m<module>\u001b[0;34m()\u001b[0m\n\u001b[0;32m----> 1\u001b[0;31m \u001b[0mdf\u001b[0m\u001b[0;34m[\u001b[0m\u001b[0;34m'Preço Unitário'\u001b[0m\u001b[0;34m]\u001b[0m \u001b[0;34m=\u001b[0m \u001b[0mpd\u001b[0m\u001b[0;34m.\u001b[0m\u001b[0mto_numeric\u001b[0m\u001b[0;34m(\u001b[0m\u001b[0mdf\u001b[0m\u001b[0;34m[\u001b[0m\u001b[0;34m'Preço Unitário'\u001b[0m\u001b[0;34m]\u001b[0m\u001b[0;34m)\u001b[0m\u001b[0;34m\u001b[0m\u001b[0;34m\u001b[0m\u001b[0m\n\u001b[0m\u001b[1;32m      2\u001b[0m \u001b[0mdf\u001b[0m\u001b[0;34m[\u001b[0m\u001b[0;34m'Quantidade'\u001b[0m\u001b[0;34m]\u001b[0m \u001b[0;34m=\u001b[0m \u001b[0mpd\u001b[0m\u001b[0;34m.\u001b[0m\u001b[0mto_numeric\u001b[0m\u001b[0;34m(\u001b[0m\u001b[0mdf\u001b[0m\u001b[0;34m[\u001b[0m\u001b[0;34m'Quantidade'\u001b[0m\u001b[0;34m]\u001b[0m\u001b[0;34m)\u001b[0m\u001b[0;34m\u001b[0m\u001b[0;34m\u001b[0m\u001b[0m\n\u001b[1;32m      3\u001b[0m \u001b[0mdf\u001b[0m\u001b[0;34m[\u001b[0m\u001b[0;34m'Data'\u001b[0m\u001b[0;34m]\u001b[0m \u001b[0;34m=\u001b[0m \u001b[0mpd\u001b[0m\u001b[0;34m.\u001b[0m\u001b[0mto_datetime\u001b[0m\u001b[0;34m(\u001b[0m\u001b[0mdf\u001b[0m\u001b[0;34m[\u001b[0m\u001b[0;34m'Data'\u001b[0m\u001b[0;34m]\u001b[0m\u001b[0;34m)\u001b[0m\u001b[0;34m\u001b[0m\u001b[0;34m\u001b[0m\u001b[0m\n",
            "\u001b[0;32m/usr/local/lib/python3.7/dist-packages/pandas/core/tools/numeric.py\u001b[0m in \u001b[0;36mto_numeric\u001b[0;34m(arg, errors, downcast)\u001b[0m\n\u001b[1;32m    151\u001b[0m         \u001b[0;32mtry\u001b[0m\u001b[0;34m:\u001b[0m\u001b[0;34m\u001b[0m\u001b[0;34m\u001b[0m\u001b[0m\n\u001b[1;32m    152\u001b[0m             values = lib.maybe_convert_numeric(\n\u001b[0;32m--> 153\u001b[0;31m                 \u001b[0mvalues\u001b[0m\u001b[0;34m,\u001b[0m \u001b[0mset\u001b[0m\u001b[0;34m(\u001b[0m\u001b[0;34m)\u001b[0m\u001b[0;34m,\u001b[0m \u001b[0mcoerce_numeric\u001b[0m\u001b[0;34m=\u001b[0m\u001b[0mcoerce_numeric\u001b[0m\u001b[0;34m\u001b[0m\u001b[0;34m\u001b[0m\u001b[0m\n\u001b[0m\u001b[1;32m    154\u001b[0m             )\n\u001b[1;32m    155\u001b[0m         \u001b[0;32mexcept\u001b[0m \u001b[0;34m(\u001b[0m\u001b[0mValueError\u001b[0m\u001b[0;34m,\u001b[0m \u001b[0mTypeError\u001b[0m\u001b[0;34m)\u001b[0m\u001b[0;34m:\u001b[0m\u001b[0;34m\u001b[0m\u001b[0;34m\u001b[0m\u001b[0m\n",
            "\u001b[0;32mpandas/_libs/lib.pyx\u001b[0m in \u001b[0;36mpandas._libs.lib.maybe_convert_numeric\u001b[0;34m()\u001b[0m\n",
            "\u001b[0;31mValueError\u001b[0m: Unable to parse string \"Price Each\" at position 517"
          ]
        }
      ]
    },
    {
      "cell_type": "markdown",
      "metadata": {
        "id": "fYbpULlEAQgw"
      },
      "source": [
        "O resultado foi um erro (```Unable to parse string \"Price Each\" at position 517```). Aparentemente existem linhas com o texto 'Price Each' (o antigo nome da coluna) como seu valor. Vamos atrás dessas linhas"
      ]
    },
    {
      "cell_type": "code",
      "metadata": {
        "colab": {
          "base_uri": "https://localhost:8080/",
          "height": 266
        },
        "id": "ewbg-pQfAMk-",
        "outputId": "e00066c8-1469-44f7-d415-d30c7ca5b553"
      },
      "source": [
        "df[df['Preço Unitário'] == 'Price Each'].sample(7)"
      ],
      "execution_count": null,
      "outputs": [
        {
          "output_type": "execute_result",
          "data": {
            "text/html": [
              "<div>\n",
              "<style scoped>\n",
              "    .dataframe tbody tr th:only-of-type {\n",
              "        vertical-align: middle;\n",
              "    }\n",
              "\n",
              "    .dataframe tbody tr th {\n",
              "        vertical-align: top;\n",
              "    }\n",
              "\n",
              "    .dataframe thead th {\n",
              "        text-align: right;\n",
              "    }\n",
              "</style>\n",
              "<table border=\"1\" class=\"dataframe\">\n",
              "  <thead>\n",
              "    <tr style=\"text-align: right;\">\n",
              "      <th></th>\n",
              "      <th>ID da ordem</th>\n",
              "      <th>Produto</th>\n",
              "      <th>Quantidade</th>\n",
              "      <th>Preço Unitário</th>\n",
              "      <th>Data</th>\n",
              "      <th>Endereço</th>\n",
              "    </tr>\n",
              "  </thead>\n",
              "  <tbody>\n",
              "    <tr>\n",
              "      <th>46967</th>\n",
              "      <td>Order ID</td>\n",
              "      <td>Product</td>\n",
              "      <td>Quantity Ordered</td>\n",
              "      <td>Price Each</td>\n",
              "      <td>Order Date</td>\n",
              "      <td>Purchase Address</td>\n",
              "    </tr>\n",
              "    <tr>\n",
              "      <th>74053</th>\n",
              "      <td>Order ID</td>\n",
              "      <td>Product</td>\n",
              "      <td>Quantity Ordered</td>\n",
              "      <td>Price Each</td>\n",
              "      <td>Order Date</td>\n",
              "      <td>Purchase Address</td>\n",
              "    </tr>\n",
              "    <tr>\n",
              "      <th>34206</th>\n",
              "      <td>Order ID</td>\n",
              "      <td>Product</td>\n",
              "      <td>Quantity Ordered</td>\n",
              "      <td>Price Each</td>\n",
              "      <td>Order Date</td>\n",
              "      <td>Purchase Address</td>\n",
              "    </tr>\n",
              "    <tr>\n",
              "      <th>170324</th>\n",
              "      <td>Order ID</td>\n",
              "      <td>Product</td>\n",
              "      <td>Quantity Ordered</td>\n",
              "      <td>Price Each</td>\n",
              "      <td>Order Date</td>\n",
              "      <td>Purchase Address</td>\n",
              "    </tr>\n",
              "    <tr>\n",
              "      <th>112636</th>\n",
              "      <td>Order ID</td>\n",
              "      <td>Product</td>\n",
              "      <td>Quantity Ordered</td>\n",
              "      <td>Price Each</td>\n",
              "      <td>Order Date</td>\n",
              "      <td>Purchase Address</td>\n",
              "    </tr>\n",
              "    <tr>\n",
              "      <th>80221</th>\n",
              "      <td>Order ID</td>\n",
              "      <td>Product</td>\n",
              "      <td>Quantity Ordered</td>\n",
              "      <td>Price Each</td>\n",
              "      <td>Order Date</td>\n",
              "      <td>Purchase Address</td>\n",
              "    </tr>\n",
              "    <tr>\n",
              "      <th>2893</th>\n",
              "      <td>Order ID</td>\n",
              "      <td>Product</td>\n",
              "      <td>Quantity Ordered</td>\n",
              "      <td>Price Each</td>\n",
              "      <td>Order Date</td>\n",
              "      <td>Purchase Address</td>\n",
              "    </tr>\n",
              "  </tbody>\n",
              "</table>\n",
              "</div>"
            ],
            "text/plain": [
              "       ID da ordem  Produto  ...        Data          Endereço\n",
              "46967     Order ID  Product  ...  Order Date  Purchase Address\n",
              "74053     Order ID  Product  ...  Order Date  Purchase Address\n",
              "34206     Order ID  Product  ...  Order Date  Purchase Address\n",
              "170324    Order ID  Product  ...  Order Date  Purchase Address\n",
              "112636    Order ID  Product  ...  Order Date  Purchase Address\n",
              "80221     Order ID  Product  ...  Order Date  Purchase Address\n",
              "2893      Order ID  Product  ...  Order Date  Purchase Address\n",
              "\n",
              "[7 rows x 6 columns]"
            ]
          },
          "metadata": {
            "tags": []
          },
          "execution_count": 51
        }
      ]
    },
    {
      "cell_type": "markdown",
      "metadata": {
        "id": "B4CLzT8lAt6e"
      },
      "source": [
        "Novamente vemos um erro que acomete a linha inteira, em que os cabeçalhos são repetidos como valores. Novamente vamos excluir tais linhas de nossa tabela, para em seguida, realizarmos novamente as operações para mudar os tipos de dados"
      ]
    },
    {
      "cell_type": "code",
      "metadata": {
        "id": "Yo2GeyH3AQN4"
      },
      "source": [
        "# exclusão das linhas\n",
        "df = df[df['Preço Unitário'] != 'Price Each']\n",
        "\n",
        "# repetição dos comandos para transformar tipo de dados\n",
        "df['Preço Unitário'] = pd.to_numeric(df['Preço Unitário'])\n",
        "df['Quantidade'] = pd.to_numeric(df['Quantidade'])\n",
        "df['Data'] = pd.to_datetime(df['Data'])"
      ],
      "execution_count": null,
      "outputs": []
    },
    {
      "cell_type": "markdown",
      "metadata": {
        "id": "WsZ1ad8hBLgD"
      },
      "source": [
        "Sem erros dessa vez. Podemos conferir os tipos novamente"
      ]
    },
    {
      "cell_type": "code",
      "metadata": {
        "colab": {
          "base_uri": "https://localhost:8080/"
        },
        "id": "bBOHIlFhBJ9W",
        "outputId": "aa5e24b2-7480-4145-9b17-aac59309f120"
      },
      "source": [
        "df.dtypes"
      ],
      "execution_count": null,
      "outputs": [
        {
          "output_type": "execute_result",
          "data": {
            "text/plain": [
              "ID da ordem               object\n",
              "Produto                   object\n",
              "Quantidade                 int64\n",
              "Preço Unitário           float64\n",
              "Data              datetime64[ns]\n",
              "Endereço                  object\n",
              "dtype: object"
            ]
          },
          "metadata": {
            "tags": []
          },
          "execution_count": 53
        }
      ]
    },
    {
      "cell_type": "markdown",
      "metadata": {
        "id": "hbva1TQ1EjDa"
      },
      "source": [
        "## Preparação\n",
        "Preparar algumas colunas para as análises que serão feitas"
      ]
    },
    {
      "cell_type": "markdown",
      "metadata": {
        "id": "P1lxJz56F_I6"
      },
      "source": [
        "Para facilitar as perguntas feitas no início, faremos três dimensões:\n",
        "* Mês da venda\n",
        "* Hora da venda\n",
        "* Cidade da venda\n",
        "\n"
      ]
    },
    {
      "cell_type": "code",
      "metadata": {
        "id": "KyI1VXXxEq21"
      },
      "source": [
        "# coluna de mês\n",
        "df['Mês'] = df['Data'].dt.month\n",
        "\n",
        "# coluna de hora\n",
        "df['Hora'] = df['Data'].dt.hour\n",
        "\n",
        "# coluna de cidade\n",
        "    # vemos que a cidade é o termo entre as vírgulas da coluna Purchase Address\n",
        "df['Cidade'] = df['Endereço'].apply(lambda x: x.split(', ')[1]+' ('+x.split(', ')[2][:2]+')')\n",
        "                        # para cada x no endereço, separa os termos pela vírgula e retorna o segundo termo([1]) e \n",
        "                        # mais as primeiras duas letras([:2]) do terceiro termo([2])"
      ],
      "execution_count": null,
      "outputs": []
    },
    {
      "cell_type": "markdown",
      "metadata": {
        "id": "ZJTKTCXXIsCF"
      },
      "source": [
        "Além disso, podemos fazer uma outra métrica **Receita**, que é a renda de cada venda, sendo a multiplicação da quantidade vendida pelo preço"
      ]
    },
    {
      "cell_type": "code",
      "metadata": {
        "id": "Ev4UeEE6I8qH"
      },
      "source": [
        "df['Receita'] = df['Quantidade'] * df['Preço Unitário']"
      ],
      "execution_count": null,
      "outputs": []
    },
    {
      "cell_type": "code",
      "metadata": {
        "colab": {
          "base_uri": "https://localhost:8080/",
          "height": 306
        },
        "id": "gkFxa4gBGnH-",
        "outputId": "553423d1-c4aa-4cd3-fba2-89828c02d5c0"
      },
      "source": [
        "# as novas colunas\n",
        "df.sample(5)"
      ],
      "execution_count": null,
      "outputs": [
        {
          "output_type": "execute_result",
          "data": {
            "text/html": [
              "<div>\n",
              "<style scoped>\n",
              "    .dataframe tbody tr th:only-of-type {\n",
              "        vertical-align: middle;\n",
              "    }\n",
              "\n",
              "    .dataframe tbody tr th {\n",
              "        vertical-align: top;\n",
              "    }\n",
              "\n",
              "    .dataframe thead th {\n",
              "        text-align: right;\n",
              "    }\n",
              "</style>\n",
              "<table border=\"1\" class=\"dataframe\">\n",
              "  <thead>\n",
              "    <tr style=\"text-align: right;\">\n",
              "      <th></th>\n",
              "      <th>ID da ordem</th>\n",
              "      <th>Produto</th>\n",
              "      <th>Quantidade</th>\n",
              "      <th>Preço Unitário</th>\n",
              "      <th>Data</th>\n",
              "      <th>Endereço</th>\n",
              "      <th>Mês</th>\n",
              "      <th>Hora</th>\n",
              "      <th>Cidade</th>\n",
              "      <th>Receita</th>\n",
              "    </tr>\n",
              "  </thead>\n",
              "  <tbody>\n",
              "    <tr>\n",
              "      <th>173173</th>\n",
              "      <td>276896</td>\n",
              "      <td>USB-C Charging Cable</td>\n",
              "      <td>1</td>\n",
              "      <td>11.95</td>\n",
              "      <td>2019-10-30 17:39:00</td>\n",
              "      <td>898 Forest St, San Francisco, CA 94016</td>\n",
              "      <td>10</td>\n",
              "      <td>17</td>\n",
              "      <td>San Francisco (CA)</td>\n",
              "      <td>11.95</td>\n",
              "    </tr>\n",
              "    <tr>\n",
              "      <th>23278</th>\n",
              "      <td>241369</td>\n",
              "      <td>Lightning Charging Cable</td>\n",
              "      <td>2</td>\n",
              "      <td>14.95</td>\n",
              "      <td>2019-08-08 13:22:00</td>\n",
              "      <td>946 Jackson St, Atlanta, GA 30301</td>\n",
              "      <td>8</td>\n",
              "      <td>13</td>\n",
              "      <td>Atlanta (GA)</td>\n",
              "      <td>29.90</td>\n",
              "    </tr>\n",
              "    <tr>\n",
              "      <th>65147</th>\n",
              "      <td>159705</td>\n",
              "      <td>USB-C Charging Cable</td>\n",
              "      <td>1</td>\n",
              "      <td>11.95</td>\n",
              "      <td>2019-02-15 14:18:00</td>\n",
              "      <td>637 14th St, San Francisco, CA 94016</td>\n",
              "      <td>2</td>\n",
              "      <td>14</td>\n",
              "      <td>San Francisco (CA)</td>\n",
              "      <td>11.95</td>\n",
              "    </tr>\n",
              "    <tr>\n",
              "      <th>45092</th>\n",
              "      <td>309699</td>\n",
              "      <td>Apple Airpods Headphones</td>\n",
              "      <td>1</td>\n",
              "      <td>150.00</td>\n",
              "      <td>2019-12-13 21:33:00</td>\n",
              "      <td>752 Church St, Boston, MA 02215</td>\n",
              "      <td>12</td>\n",
              "      <td>21</td>\n",
              "      <td>Boston (MA)</td>\n",
              "      <td>150.00</td>\n",
              "    </tr>\n",
              "    <tr>\n",
              "      <th>104847</th>\n",
              "      <td>222516</td>\n",
              "      <td>Wired Headphones</td>\n",
              "      <td>1</td>\n",
              "      <td>11.99</td>\n",
              "      <td>2019-06-25 14:43:00</td>\n",
              "      <td>429 South St, Boston, MA 02215</td>\n",
              "      <td>6</td>\n",
              "      <td>14</td>\n",
              "      <td>Boston (MA)</td>\n",
              "      <td>11.99</td>\n",
              "    </tr>\n",
              "  </tbody>\n",
              "</table>\n",
              "</div>"
            ],
            "text/plain": [
              "       ID da ordem                   Produto  ...              Cidade  Receita\n",
              "173173      276896      USB-C Charging Cable  ...  San Francisco (CA)    11.95\n",
              "23278       241369  Lightning Charging Cable  ...        Atlanta (GA)    29.90\n",
              "65147       159705      USB-C Charging Cable  ...  San Francisco (CA)    11.95\n",
              "45092       309699  Apple Airpods Headphones  ...         Boston (MA)   150.00\n",
              "104847      222516          Wired Headphones  ...         Boston (MA)    11.99\n",
              "\n",
              "[5 rows x 10 columns]"
            ]
          },
          "metadata": {
            "tags": []
          },
          "execution_count": 57
        }
      ]
    },
    {
      "cell_type": "markdown",
      "metadata": {
        "id": "D8xvCokCeDse"
      },
      "source": [
        "## Conhecendo os dados\n",
        "Antes de tudo, precisamos ter um breve entendimento dos dados que vamos analisar"
      ]
    },
    {
      "cell_type": "markdown",
      "metadata": {
        "id": "-mU1-bSgeT5Y"
      },
      "source": [
        "Primeiramente, vamos entender quantos produtos são vendidos e quais são eles"
      ]
    },
    {
      "cell_type": "code",
      "metadata": {
        "colab": {
          "base_uri": "https://localhost:8080/"
        },
        "id": "ukM_igpyeUaZ",
        "outputId": "c9395114-8f22-4a0c-c8d8-2dbe1c3abded"
      },
      "source": [
        "print('Ao todo a empresa vende ' + str(len(df['Produto'].unique())) + ' produtos, sendo eles: ' + str(df['Produto'].unique())) "
      ],
      "execution_count": 109,
      "outputs": [
        {
          "output_type": "stream",
          "text": [
            "Ao todo a empresa vende 19 produtos, sendo eles: ['USB-C Charging Cable' 'Bose SoundSport Headphones' 'Google Phone'\n",
            " 'Wired Headphones' 'Macbook Pro Laptop' 'Lightning Charging Cable'\n",
            " '27in 4K Gaming Monitor' 'AA Batteries (4-pack)'\n",
            " 'Apple Airpods Headphones' 'AAA Batteries (4-pack)' 'iPhone'\n",
            " 'Flatscreen TV' '27in FHD Monitor' '20in Monitor' 'LG Dryer'\n",
            " 'ThinkPad Laptop' 'Vareebadd Phone' 'LG Washing Machine'\n",
            " '34in Ultrawide Monitor']\n"
          ],
          "name": "stdout"
        }
      ]
    },
    {
      "cell_type": "markdown",
      "metadata": {
        "id": "hpWLJ-VufNW3"
      },
      "source": [
        "Vemos que a empresa vende produtos eletrônicos, como telefones, cabos, pilhas, TVs e Laptops, além de alguns eletrodomésticos\n",
        "\n",
        "Podemos também ver em quais cidades que os produtos são vendidos"
      ]
    },
    {
      "cell_type": "code",
      "metadata": {
        "colab": {
          "base_uri": "https://localhost:8080/"
        },
        "id": "zwmQJGd8fsMN",
        "outputId": "59c8944c-0bcf-4ef5-c4c7-2766eaf03822"
      },
      "source": [
        "df['Cidade'].unique()"
      ],
      "execution_count": 110,
      "outputs": [
        {
          "output_type": "execute_result",
          "data": {
            "text/plain": [
              "array(['Dallas (TX)', 'Boston (MA)', 'Los Angeles (CA)',\n",
              "       'San Francisco (CA)', 'Seattle (WA)', 'Atlanta (GA)',\n",
              "       'New York City (NY)', 'Portland (OR)', 'Austin (TX)',\n",
              "       'Portland (ME)'], dtype=object)"
            ]
          },
          "metadata": {
            "tags": []
          },
          "execution_count": 110
        }
      ]
    },
    {
      "cell_type": "markdown",
      "metadata": {
        "id": "VSPT4TxqgA7Q"
      },
      "source": [
        "Além disso, podemos também entender a dimensão temporal de nossos dados"
      ]
    },
    {
      "cell_type": "code",
      "metadata": {
        "colab": {
          "base_uri": "https://localhost:8080/"
        },
        "id": "xSaIjyb8gbpC",
        "outputId": "dd598057-6224-420c-ab04-56183aed5675"
      },
      "source": [
        "print('As vendas começam dia ' + str(df['Data'].dt.date.min()) + ' e vão até dia ' + str(df['Data'].dt.date.max()))"
      ],
      "execution_count": 116,
      "outputs": [
        {
          "output_type": "stream",
          "text": [
            "As vendas começam dia 2019-01-01 e vão até dia 2020-01-01\n"
          ],
          "name": "stdout"
        }
      ]
    },
    {
      "cell_type": "markdown",
      "metadata": {
        "id": "_f33qwCBg47W"
      },
      "source": [
        "Ou seja, temos o compilado de um ano em vendas, de primeiro de janeiro de 2019 até o mesmo dia de 2020"
      ]
    },
    {
      "cell_type": "markdown",
      "metadata": {
        "id": "NpndnDfyIarL"
      },
      "source": [
        "## Análise Exploratória"
      ]
    },
    {
      "cell_type": "markdown",
      "metadata": {
        "id": "DQUh0NYaJo0R"
      },
      "source": [
        "### Qual o produto mais vendido?\n",
        "Primeira pergunta a ser feita, é qual o produto desse conjunto que vendeu mais"
      ]
    },
    {
      "cell_type": "code",
      "metadata": {
        "id": "73NgY1-vJ03s",
        "colab": {
          "base_uri": "https://localhost:8080/",
          "height": 391
        },
        "outputId": "06e84089-58c4-4e84-eef0-99471b50363e"
      },
      "source": [
        "# Agrupando os produtos e somando as quantidades\n",
        "produto_agrupamento = df.groupby('Produto').sum().sort_values('Quantidade', ascending=False)\n",
        "\n",
        "# Fazendo um gráfico de barras para relacionar esses dados\n",
        "plt.bar(produto_agrupamento.index, produto_agrupamento['Quantidade'])\n",
        "plt.xticks(produto_agrupamento.index, rotation='vertical', size=8)\n",
        "plt.ylabel('Quantidade Vendida')\n",
        "plt.xlabel('Produto')\n",
        "plt.show()\n"
      ],
      "execution_count": null,
      "outputs": [
        {
          "output_type": "display_data",
          "data": {
            "image/png": "[encoded data removed]",
            "text/plain": [
              "<Figure size 432x288 with 1 Axes>"
            ]
          },
          "metadata": {
            "tags": [],
            "needs_background": "light"
          }
        }
      ]
    },
    {
      "cell_type": "markdown",
      "metadata": {
        "id": "SLUQzBPOGwUB"
      },
      "source": [
        "Vemos que **o produto mais vendido foi o pacote de pilhas AAA**, seguido pelo pacote de pilhas AA e depois por cabos e fones de ouvido. Pode se imaginar que tais itens foram os mais vendidos por representarem produtos de preço unitário baixo, quando comparado aos outros. Em seguida plotaremos no mesmo gráfico os dados de preço dos produtos, para visualizarmos se há relação, e também calcularemos o coeficiente de correlação de Pearson, para vermos se há correlação estatisticamente relevante entre essas duas variáveis."
      ]
    },
    {
      "cell_type": "code",
      "metadata": {
        "id": "V-_YhhRtKFar",
        "colab": {
          "base_uri": "https://localhost:8080/",
          "height": 391
        },
        "outputId": "75fa1441-352d-46e3-a9a8-09aca1837d58"
      },
      "source": [
        "# Pegando apenas o preço unitário dos produtos\n",
        "preços = df.groupby('Produto').mean().sort_values('Quantidade', ascending=False)['Preço Unitário']\n",
        "\n",
        "# Esse gráfico terá dois eixos (ax1 e ax2)\n",
        "fig, ax1 = plt.subplots()\n",
        "ax2 = ax1.twinx()\n",
        "\n",
        "# Eixo 1 será o mesmo gráfico de barras anterior\n",
        "ax1.bar(produto_agrupamento.index, produto_agrupamento['Quantidade'])\n",
        "ax2.plot(produto_agrupamento.index, preços, color='b')\n",
        "\n",
        "ax1.set_xlabel('Produto')\n",
        "ax1.set_ylabel('Quantidade Vendida')\n",
        "ax2.set_ylabel('Preço ($)')\n",
        "ax1.set_xticklabels(product_group.index, rotation='vertical', size=8)\n",
        "\n",
        "plt.show()"
      ],
      "execution_count": null,
      "outputs": [
        {
          "output_type": "display_data",
          "data": {
            "image/png": "[encoded data removed]",
            "text/plain": [
              "<Figure size 432x288 with 2 Axes>"
            ]
          },
          "metadata": {
            "tags": [],
            "needs_background": "light"
          }
        }
      ]
    },
    {
      "cell_type": "markdown",
      "metadata": {
        "id": "68ZlEc7UId7P"
      },
      "source": [
        "Podemos ver que parece realmente haver uma correlação entre o preço unitário e a quantidade vendida, que aumenta conforme o preço diminui, com algumas exceções (como por exemplo os três produtos menos vendidos)"
      ]
    },
    {
      "cell_type": "code",
      "metadata": {
        "id": "aISvPkgwH_Ip",
        "colab": {
          "base_uri": "https://localhost:8080/",
          "height": 111
        },
        "outputId": "133526c2-da96-4ea6-c9ce-d5d2a53788ba"
      },
      "source": [
        "# Criação de outro DataFrame para correlacionar preço com quantidade vendida\n",
        "df_correlação = pd.DataFrame()\n",
        "\n",
        "df_correlação['Produto'] = produto_agrupamento.index\n",
        "df_correlação['Preço'] = preços.values\n",
        "df_correlação['Quantidade'] = produto_agrupamento['Quantidade'].values\n",
        "\n",
        "df_correlação.head(2)"
      ],
      "execution_count": null,
      "outputs": [
        {
          "output_type": "execute_result",
          "data": {
            "text/html": [
              "<div>\n",
              "<style scoped>\n",
              "    .dataframe tbody tr th:only-of-type {\n",
              "        vertical-align: middle;\n",
              "    }\n",
              "\n",
              "    .dataframe tbody tr th {\n",
              "        vertical-align: top;\n",
              "    }\n",
              "\n",
              "    .dataframe thead th {\n",
              "        text-align: right;\n",
              "    }\n",
              "</style>\n",
              "<table border=\"1\" class=\"dataframe\">\n",
              "  <thead>\n",
              "    <tr style=\"text-align: right;\">\n",
              "      <th></th>\n",
              "      <th>Produto</th>\n",
              "      <th>Preço</th>\n",
              "      <th>Quantidade</th>\n",
              "    </tr>\n",
              "  </thead>\n",
              "  <tbody>\n",
              "    <tr>\n",
              "      <th>0</th>\n",
              "      <td>AAA Batteries (4-pack)</td>\n",
              "      <td>2.99</td>\n",
              "      <td>31017</td>\n",
              "    </tr>\n",
              "    <tr>\n",
              "      <th>1</th>\n",
              "      <td>AA Batteries (4-pack)</td>\n",
              "      <td>3.84</td>\n",
              "      <td>27635</td>\n",
              "    </tr>\n",
              "  </tbody>\n",
              "</table>\n",
              "</div>"
            ],
            "text/plain": [
              "                  Produto  Preço  Quantidade\n",
              "0  AAA Batteries (4-pack)   2.99       31017\n",
              "1   AA Batteries (4-pack)   3.84       27635"
            ]
          },
          "metadata": {
            "tags": []
          },
          "execution_count": 62
        }
      ]
    },
    {
      "cell_type": "markdown",
      "metadata": {
        "id": "FSp-tFY_KGy8"
      },
      "source": [
        "Podemos usar o método ```.corr()``` para calcular a correlação estatísica entre esses duas variáveis (preço e quantidade vendida). Lembrando que:\n",
        "\n",
        "* 0.9 para mais ou para menos indica uma correlação muito forte.\n",
        "* 0.7 a 0.9 positivo ou negativo indica uma correlação forte.\n",
        "* 0.5 a 0.7 positivo ou negativo indica uma correlação moderada.\n",
        "* 0.3 a 0.5 positivo ou negativo indica uma correlação fraca.\n",
        "* 0 a 0.3 positivo ou negativo indica uma correlação desprezível.\n",
        "\n"
      ]
    },
    {
      "cell_type": "code",
      "metadata": {
        "id": "9JWlZlvtJTm_",
        "colab": {
          "base_uri": "https://localhost:8080/"
        },
        "outputId": "303f1b89-313b-4fab-de35-6df1958beddb"
      },
      "source": [
        "df_correlação['Quantidade'].corr(df_correlação['Preço'])"
      ],
      "execution_count": null,
      "outputs": [
        {
          "output_type": "execute_result",
          "data": {
            "text/plain": [
              "-0.65571842834477"
            ]
          },
          "metadata": {
            "tags": []
          },
          "execution_count": 63
        }
      ]
    },
    {
      "cell_type": "markdown",
      "metadata": {
        "id": "SJlfb_t0Khh4"
      },
      "source": [
        "Visto que a correlação resultante foi de -0.656, nos indica que existe uma correlação moderada entre o preço do produto e a quantidade vendida"
      ]
    },
    {
      "cell_type": "markdown",
      "metadata": {
        "id": "kcR79iuMKxcC"
      },
      "source": [
        "### Qual produto que mais dá receita?\n",
        "Além de saber o produto mais vendido, faz sentido entendermos o produto que mais gera receita para a empresa"
      ]
    },
    {
      "cell_type": "markdown",
      "metadata": {
        "id": "P91OSi_XLHZt"
      },
      "source": [
        "Para isso, iniciaremos da mesma forma que a pergunta anterior, mas usaremos a coluna 'Revenue' para ver o total de receita gerado pelos produtos"
      ]
    },
    {
      "cell_type": "code",
      "metadata": {
        "id": "jSAAv2qULFGk",
        "colab": {
          "base_uri": "https://localhost:8080/",
          "height": 402
        },
        "outputId": "13cd76f2-2b0d-49d2-b05c-d864285fd3d4"
      },
      "source": [
        "produto_agrupamento2 = df.groupby('Produto').sum().sort_values('Receita', ascending=False)\n",
        "\n",
        "plt.bar(produto_agrupamento2.index, produto_agrupamento2['Receita'], color='c')\n",
        "plt.xticks(produto_agrupamento2.index, rotation='vertical', size=8)\n",
        "plt.ylabel('Receita Total ($*100000)')\n",
        "plt.xlabel('Produto')\n",
        "plt.show()"
      ],
      "execution_count": null,
      "outputs": [
        {
          "output_type": "display_data",
          "data": {
            "image/png": "[encoded data removed]",
            "text/plain": [
              "<Figure size 432x288 with 1 Axes>"
            ]
          },
          "metadata": {
            "tags": [],
            "needs_background": "light"
          }
        }
      ]
    },
    {
      "cell_type": "markdown",
      "metadata": {
        "id": "Q7r1_UbzL-Oc"
      },
      "source": [
        "Com essa visualização fica claro que **o produto que mais gera receita é o Macbook Pro Laptop**, liderando esse ranking. Outro insight interessante de se perceber é que os 5 produtos mais vendidos em quantidade são os 5 que dão menos receita (devido ao preço unitário baixo, conforme visto anteriormente)"
      ]
    },
    {
      "cell_type": "markdown",
      "metadata": {
        "id": "pYR1dHoHMqZG"
      },
      "source": [
        "### Qual cidade que mais dá receita?"
      ]
    },
    {
      "cell_type": "markdown",
      "metadata": {
        "id": "M6-wqiGyP8Qu"
      },
      "source": [
        "Com a coluna de cidade já feita, é fácil de respondermos essa pergunta."
      ]
    },
    {
      "cell_type": "code",
      "metadata": {
        "id": "50AoL-DKLiL0",
        "colab": {
          "base_uri": "https://localhost:8080/",
          "height": 279
        },
        "outputId": "217f2580-ee19-4047-b523-76bcc626174a"
      },
      "source": [
        "cidade_agrupamento = df.groupby('Cidade').sum().sort_values('Receita')\n",
        "\n",
        "plt.barh(cidade_agrupamento.index, cidade_agrupamento['Receita'], color='y')\n",
        "plt.ylabel('Cidade')\n",
        "plt.xlabel('Receita Total ($*100000)')\n",
        "plt.show()"
      ],
      "execution_count": null,
      "outputs": [
        {
          "output_type": "display_data",
          "data": {
            "image/png": "[encoded data removed]",
            "text/plain": [
              "<Figure size 432x288 with 1 Axes>"
            ]
          },
          "metadata": {
            "tags": [],
            "needs_background": "light"
          }
        }
      ]
    },
    {
      "cell_type": "markdown",
      "metadata": {
        "id": "ea-1knehN1e8"
      },
      "source": [
        "Percebe-se que **a cidade de São Francisco é a maior geradora de receita pra empresa**, seguida por Los Angeles, outra cidade do mesmo estado. \n"
      ]
    },
    {
      "cell_type": "markdown",
      "metadata": {
        "id": "VWpZS16lRQGm"
      },
      "source": [
        "### Como as vendas se distribuem ao longo do dia?\n",
        "Podemos verificar o comportamento das vendas de acordo com seu horário"
      ]
    },
    {
      "cell_type": "markdown",
      "metadata": {
        "id": "uXjvxuy3Rr_D"
      },
      "source": [
        "Para isso, usaremos um gráfico de linhas relacionando o horário do dia com a quantidade de produtos vendidos"
      ]
    },
    {
      "cell_type": "code",
      "metadata": {
        "id": "WmvwzmerO6FE",
        "colab": {
          "base_uri": "https://localhost:8080/",
          "height": 279
        },
        "outputId": "387b67e7-cc13-47ac-fe77-154796d06b24"
      },
      "source": [
        "hora_agrupamento = df.groupby('Hora').sum()\n",
        "\n",
        "plt.plot(hora_agrupamento.index, hora_agrupamento['Quantidade'], color='black')\n",
        "plt.xticks(hora_agrupamento.index)\n",
        "plt.ylabel('Quantidade Vendida')\n",
        "plt.xlabel('Hora do dia')\n",
        "plt.grid()\n",
        "plt.show()"
      ],
      "execution_count": null,
      "outputs": [
        {
          "output_type": "display_data",
          "data": {
            "image/png": "[encoded data removed]",
            "text/plain": [
              "<Figure size 432x288 with 1 Axes>"
            ]
          },
          "metadata": {
            "tags": [],
            "needs_background": "light"
          }
        }
      ]
    },
    {
      "cell_type": "markdown",
      "metadata": {
        "id": "Wil822ipSiT5"
      },
      "source": [
        "Podemos ver que das 9h às 21h30 ocorrem mais vendas, acima de 11000 produtos por hora. Existem dois picos ao longo do dia, das 11h às 13h e das 18h às 20h. Provavelmente esses horários têm mais vendas por não serem horários típicos em que pessoas trabalham. \n",
        "\n",
        "11h - 13h é um intervalo em que ocorrem pausas para almoço\n",
        "\n",
        "18h - 20h é um horário típico de saída de expediente"
      ]
    },
    {
      "cell_type": "code",
      "metadata": {
        "colab": {
          "base_uri": "https://localhost:8080/",
          "height": 295
        },
        "id": "qKeyU7_USDRy",
        "outputId": "f65cf701-6f06-4858-efb8-96b2f7f50569"
      },
      "source": [
        "# Outro gráfico, enfatizando os horários de pico\n",
        "fig, ax1 = plt.subplots()\n",
        "plt.plot(hour_group.index, hora_agrupamento['Quantidade'], color='black')\n",
        "plt.xticks(hora_agrupamento.index)\n",
        "plt.title('Vendas ao longo do dia')\n",
        "plt.ylabel('Quantidade Vendida')\n",
        "plt.xlabel('Hora do dia')\n",
        "ax1.axvspan(11, 13, alpha=0.5, color='y')\n",
        "ax1.axvspan(18, 20, alpha=0.5, color='y')\n",
        "plt.show()\n"
      ],
      "execution_count": null,
      "outputs": [
        {
          "output_type": "display_data",
          "data": {
            "image/png": "[encoded data removed]",
            "text/plain": [
              "<Figure size 432x288 with 1 Axes>"
            ]
          },
          "metadata": {
            "tags": [],
            "needs_background": "light"
          }
        }
      ]
    },
    {
      "cell_type": "markdown",
      "metadata": {
        "id": "IeI45hbTo0GT"
      },
      "source": [
        "### Quais produtos são os mais vendidos em conjunto?\n",
        "Existem produtos que são vendidos em duplas? Quais são eles e quais são as combinações mais frequentes?"
      ]
    },
    {
      "cell_type": "markdown",
      "metadata": {
        "id": "pmRV3Le5pHni"
      },
      "source": [
        "Conseguimos encontrar produtos vendidos juntos quando existe mais de um produto na mesma ID da ordem."
      ]
    },
    {
      "cell_type": "code",
      "metadata": {
        "colab": {
          "base_uri": "https://localhost:8080/",
          "height": 354
        },
        "id": "ZL2pmLTapHUH",
        "outputId": "cad8531c-12df-4968-ea6c-34322d2d9541"
      },
      "source": [
        "# Fazendo um novo DataFrame, para excluir IDs que tiveram apenas um produto vendido\n",
        "\n",
        "df_conjuntos = df[df['ID da ordem'].duplicated(keep=False)]\n",
        "df_conjuntos = df_conjuntos.sort_values(['ID da ordem','Produto']) # Ordenar pelo nome do produto, \n",
        "                                                        # pra todas as combinações terem a mesma ordem (alfabética)\n",
        "\n",
        "df_conjuntos.head(6)"
      ],
      "execution_count": 83,
      "outputs": [
        {
          "output_type": "execute_result",
          "data": {
            "text/html": [
              "<div>\n",
              "<style scoped>\n",
              "    .dataframe tbody tr th:only-of-type {\n",
              "        vertical-align: middle;\n",
              "    }\n",
              "\n",
              "    .dataframe tbody tr th {\n",
              "        vertical-align: top;\n",
              "    }\n",
              "\n",
              "    .dataframe thead th {\n",
              "        text-align: right;\n",
              "    }\n",
              "</style>\n",
              "<table border=\"1\" class=\"dataframe\">\n",
              "  <thead>\n",
              "    <tr style=\"text-align: right;\">\n",
              "      <th></th>\n",
              "      <th>ID da ordem</th>\n",
              "      <th>Produto</th>\n",
              "      <th>Quantidade</th>\n",
              "      <th>Preço Unitário</th>\n",
              "      <th>Data</th>\n",
              "      <th>Endereço</th>\n",
              "      <th>Mês</th>\n",
              "      <th>Hora</th>\n",
              "      <th>Cidade</th>\n",
              "      <th>Receita</th>\n",
              "    </tr>\n",
              "  </thead>\n",
              "  <tbody>\n",
              "    <tr>\n",
              "      <th>67588</th>\n",
              "      <td>141275</td>\n",
              "      <td>USB-C Charging Cable</td>\n",
              "      <td>1</td>\n",
              "      <td>11.95</td>\n",
              "      <td>2019-01-07 16:06:00</td>\n",
              "      <td>610 Walnut St, Austin, TX 73301</td>\n",
              "      <td>1</td>\n",
              "      <td>16</td>\n",
              "      <td>Austin (TX)</td>\n",
              "      <td>11.95</td>\n",
              "    </tr>\n",
              "    <tr>\n",
              "      <th>67589</th>\n",
              "      <td>141275</td>\n",
              "      <td>Wired Headphones</td>\n",
              "      <td>1</td>\n",
              "      <td>11.99</td>\n",
              "      <td>2019-01-07 16:06:00</td>\n",
              "      <td>610 Walnut St, Austin, TX 73301</td>\n",
              "      <td>1</td>\n",
              "      <td>16</td>\n",
              "      <td>Austin (TX)</td>\n",
              "      <td>11.99</td>\n",
              "    </tr>\n",
              "    <tr>\n",
              "      <th>67605</th>\n",
              "      <td>141290</td>\n",
              "      <td>AA Batteries (4-pack)</td>\n",
              "      <td>3</td>\n",
              "      <td>3.84</td>\n",
              "      <td>2019-01-02 08:25:00</td>\n",
              "      <td>4 1st St, Los Angeles, CA 90001</td>\n",
              "      <td>1</td>\n",
              "      <td>8</td>\n",
              "      <td>Los Angeles (CA)</td>\n",
              "      <td>11.52</td>\n",
              "    </tr>\n",
              "    <tr>\n",
              "      <th>67604</th>\n",
              "      <td>141290</td>\n",
              "      <td>Apple Airpods Headphones</td>\n",
              "      <td>1</td>\n",
              "      <td>150.00</td>\n",
              "      <td>2019-01-02 08:25:00</td>\n",
              "      <td>4 1st St, Los Angeles, CA 90001</td>\n",
              "      <td>1</td>\n",
              "      <td>8</td>\n",
              "      <td>Los Angeles (CA)</td>\n",
              "      <td>150.00</td>\n",
              "    </tr>\n",
              "    <tr>\n",
              "      <th>67680</th>\n",
              "      <td>141365</td>\n",
              "      <td>Vareebadd Phone</td>\n",
              "      <td>1</td>\n",
              "      <td>400.00</td>\n",
              "      <td>2019-01-10 11:19:00</td>\n",
              "      <td>20 Dogwood St, New York City, NY 10001</td>\n",
              "      <td>1</td>\n",
              "      <td>11</td>\n",
              "      <td>New York City (NY)</td>\n",
              "      <td>400.00</td>\n",
              "    </tr>\n",
              "    <tr>\n",
              "      <th>67681</th>\n",
              "      <td>141365</td>\n",
              "      <td>Wired Headphones</td>\n",
              "      <td>1</td>\n",
              "      <td>11.99</td>\n",
              "      <td>2019-01-10 11:19:00</td>\n",
              "      <td>20 Dogwood St, New York City, NY 10001</td>\n",
              "      <td>1</td>\n",
              "      <td>11</td>\n",
              "      <td>New York City (NY)</td>\n",
              "      <td>11.99</td>\n",
              "    </tr>\n",
              "  </tbody>\n",
              "</table>\n",
              "</div>"
            ],
            "text/plain": [
              "      ID da ordem                   Produto  ...              Cidade  Receita\n",
              "67588      141275      USB-C Charging Cable  ...         Austin (TX)    11.95\n",
              "67589      141275          Wired Headphones  ...         Austin (TX)    11.99\n",
              "67605      141290     AA Batteries (4-pack)  ...    Los Angeles (CA)    11.52\n",
              "67604      141290  Apple Airpods Headphones  ...    Los Angeles (CA)   150.00\n",
              "67680      141365           Vareebadd Phone  ...  New York City (NY)   400.00\n",
              "67681      141365          Wired Headphones  ...  New York City (NY)    11.99\n",
              "\n",
              "[6 rows x 10 columns]"
            ]
          },
          "metadata": {
            "tags": []
          },
          "execution_count": 83
        }
      ]
    },
    {
      "cell_type": "markdown",
      "metadata": {
        "id": "Rv4GCLrQ_txP"
      },
      "source": [
        "Para realizarmos a análise dos conjuntos de produtos vendidos, faremos uma nova coluna **Conjunto**, que juntará os produtos"
      ]
    },
    {
      "cell_type": "code",
      "metadata": {
        "colab": {
          "base_uri": "https://localhost:8080/",
          "height": 354
        },
        "id": "Qx85OkmX_7ze",
        "outputId": "f77cacda-aaae-434f-d948-c5e3db127ed1"
      },
      "source": [
        "# A seguinte fórmula está criando a nova coluna, unindo os produtos da mesma ordem\n",
        "df_conjuntos['Conjunto'] = df_conjuntos.groupby('ID da ordem')['Produto'].transform(lambda x: ','.join(x))\n",
        "\n",
        "df_conjuntos.head(6)"
      ],
      "execution_count": 86,
      "outputs": [
        {
          "output_type": "execute_result",
          "data": {
            "text/html": [
              "<div>\n",
              "<style scoped>\n",
              "    .dataframe tbody tr th:only-of-type {\n",
              "        vertical-align: middle;\n",
              "    }\n",
              "\n",
              "    .dataframe tbody tr th {\n",
              "        vertical-align: top;\n",
              "    }\n",
              "\n",
              "    .dataframe thead th {\n",
              "        text-align: right;\n",
              "    }\n",
              "</style>\n",
              "<table border=\"1\" class=\"dataframe\">\n",
              "  <thead>\n",
              "    <tr style=\"text-align: right;\">\n",
              "      <th></th>\n",
              "      <th>ID da ordem</th>\n",
              "      <th>Produto</th>\n",
              "      <th>Quantidade</th>\n",
              "      <th>Preço Unitário</th>\n",
              "      <th>Data</th>\n",
              "      <th>Endereço</th>\n",
              "      <th>Mês</th>\n",
              "      <th>Hora</th>\n",
              "      <th>Cidade</th>\n",
              "      <th>Receita</th>\n",
              "      <th>Conjunto</th>\n",
              "    </tr>\n",
              "  </thead>\n",
              "  <tbody>\n",
              "    <tr>\n",
              "      <th>67588</th>\n",
              "      <td>141275</td>\n",
              "      <td>USB-C Charging Cable</td>\n",
              "      <td>1</td>\n",
              "      <td>11.95</td>\n",
              "      <td>2019-01-07 16:06:00</td>\n",
              "      <td>610 Walnut St, Austin, TX 73301</td>\n",
              "      <td>1</td>\n",
              "      <td>16</td>\n",
              "      <td>Austin (TX)</td>\n",
              "      <td>11.95</td>\n",
              "      <td>USB-C Charging Cable,Wired Headphones</td>\n",
              "    </tr>\n",
              "    <tr>\n",
              "      <th>67589</th>\n",
              "      <td>141275</td>\n",
              "      <td>Wired Headphones</td>\n",
              "      <td>1</td>\n",
              "      <td>11.99</td>\n",
              "      <td>2019-01-07 16:06:00</td>\n",
              "      <td>610 Walnut St, Austin, TX 73301</td>\n",
              "      <td>1</td>\n",
              "      <td>16</td>\n",
              "      <td>Austin (TX)</td>\n",
              "      <td>11.99</td>\n",
              "      <td>USB-C Charging Cable,Wired Headphones</td>\n",
              "    </tr>\n",
              "    <tr>\n",
              "      <th>67605</th>\n",
              "      <td>141290</td>\n",
              "      <td>AA Batteries (4-pack)</td>\n",
              "      <td>3</td>\n",
              "      <td>3.84</td>\n",
              "      <td>2019-01-02 08:25:00</td>\n",
              "      <td>4 1st St, Los Angeles, CA 90001</td>\n",
              "      <td>1</td>\n",
              "      <td>8</td>\n",
              "      <td>Los Angeles (CA)</td>\n",
              "      <td>11.52</td>\n",
              "      <td>AA Batteries (4-pack),Apple Airpods Headphones</td>\n",
              "    </tr>\n",
              "    <tr>\n",
              "      <th>67604</th>\n",
              "      <td>141290</td>\n",
              "      <td>Apple Airpods Headphones</td>\n",
              "      <td>1</td>\n",
              "      <td>150.00</td>\n",
              "      <td>2019-01-02 08:25:00</td>\n",
              "      <td>4 1st St, Los Angeles, CA 90001</td>\n",
              "      <td>1</td>\n",
              "      <td>8</td>\n",
              "      <td>Los Angeles (CA)</td>\n",
              "      <td>150.00</td>\n",
              "      <td>AA Batteries (4-pack),Apple Airpods Headphones</td>\n",
              "    </tr>\n",
              "    <tr>\n",
              "      <th>67680</th>\n",
              "      <td>141365</td>\n",
              "      <td>Vareebadd Phone</td>\n",
              "      <td>1</td>\n",
              "      <td>400.00</td>\n",
              "      <td>2019-01-10 11:19:00</td>\n",
              "      <td>20 Dogwood St, New York City, NY 10001</td>\n",
              "      <td>1</td>\n",
              "      <td>11</td>\n",
              "      <td>New York City (NY)</td>\n",
              "      <td>400.00</td>\n",
              "      <td>Vareebadd Phone,Wired Headphones</td>\n",
              "    </tr>\n",
              "    <tr>\n",
              "      <th>67681</th>\n",
              "      <td>141365</td>\n",
              "      <td>Wired Headphones</td>\n",
              "      <td>1</td>\n",
              "      <td>11.99</td>\n",
              "      <td>2019-01-10 11:19:00</td>\n",
              "      <td>20 Dogwood St, New York City, NY 10001</td>\n",
              "      <td>1</td>\n",
              "      <td>11</td>\n",
              "      <td>New York City (NY)</td>\n",
              "      <td>11.99</td>\n",
              "      <td>Vareebadd Phone,Wired Headphones</td>\n",
              "    </tr>\n",
              "  </tbody>\n",
              "</table>\n",
              "</div>"
            ],
            "text/plain": [
              "      ID da ordem  ...                                        Conjunto\n",
              "67588      141275  ...           USB-C Charging Cable,Wired Headphones\n",
              "67589      141275  ...           USB-C Charging Cable,Wired Headphones\n",
              "67605      141290  ...  AA Batteries (4-pack),Apple Airpods Headphones\n",
              "67604      141290  ...  AA Batteries (4-pack),Apple Airpods Headphones\n",
              "67680      141365  ...                Vareebadd Phone,Wired Headphones\n",
              "67681      141365  ...                Vareebadd Phone,Wired Headphones\n",
              "\n",
              "[6 rows x 11 columns]"
            ]
          },
          "metadata": {
            "tags": []
          },
          "execution_count": 86
        }
      ]
    },
    {
      "cell_type": "markdown",
      "metadata": {
        "id": "RzI2Iv4AA5R7"
      },
      "source": [
        "Agora modificaremos essa tabela, para apenas conter o que necessitamos para essa análise: apenas o ID e seus produtos vendidos"
      ]
    },
    {
      "cell_type": "code",
      "metadata": {
        "colab": {
          "base_uri": "https://localhost:8080/",
          "height": 204
        },
        "id": "QGb0TnaCAQB0",
        "outputId": "047fbcb6-2820-4b50-c4e9-4183bba7eca9"
      },
      "source": [
        "# Essa fórmula pega apenas as colunas desejadas e remove os valores duplicados \n",
        "#    (para não repetir as IDs)\n",
        "df_conjuntos = df_conjuntos[['ID da ordem', 'Conjunto']].drop_duplicates()\n",
        "\n",
        "df_conjuntos.head()"
      ],
      "execution_count": 87,
      "outputs": [
        {
          "output_type": "execute_result",
          "data": {
            "text/html": [
              "<div>\n",
              "<style scoped>\n",
              "    .dataframe tbody tr th:only-of-type {\n",
              "        vertical-align: middle;\n",
              "    }\n",
              "\n",
              "    .dataframe tbody tr th {\n",
              "        vertical-align: top;\n",
              "    }\n",
              "\n",
              "    .dataframe thead th {\n",
              "        text-align: right;\n",
              "    }\n",
              "</style>\n",
              "<table border=\"1\" class=\"dataframe\">\n",
              "  <thead>\n",
              "    <tr style=\"text-align: right;\">\n",
              "      <th></th>\n",
              "      <th>ID da ordem</th>\n",
              "      <th>Conjunto</th>\n",
              "    </tr>\n",
              "  </thead>\n",
              "  <tbody>\n",
              "    <tr>\n",
              "      <th>67588</th>\n",
              "      <td>141275</td>\n",
              "      <td>USB-C Charging Cable,Wired Headphones</td>\n",
              "    </tr>\n",
              "    <tr>\n",
              "      <th>67605</th>\n",
              "      <td>141290</td>\n",
              "      <td>AA Batteries (4-pack),Apple Airpods Headphones</td>\n",
              "    </tr>\n",
              "    <tr>\n",
              "      <th>67680</th>\n",
              "      <td>141365</td>\n",
              "      <td>Vareebadd Phone,Wired Headphones</td>\n",
              "    </tr>\n",
              "    <tr>\n",
              "      <th>67700</th>\n",
              "      <td>141384</td>\n",
              "      <td>Google Phone,USB-C Charging Cable</td>\n",
              "    </tr>\n",
              "    <tr>\n",
              "      <th>67768</th>\n",
              "      <td>141450</td>\n",
              "      <td>Bose SoundSport Headphones,Google Phone</td>\n",
              "    </tr>\n",
              "  </tbody>\n",
              "</table>\n",
              "</div>"
            ],
            "text/plain": [
              "      ID da ordem                                        Conjunto\n",
              "67588      141275           USB-C Charging Cable,Wired Headphones\n",
              "67605      141290  AA Batteries (4-pack),Apple Airpods Headphones\n",
              "67680      141365                Vareebadd Phone,Wired Headphones\n",
              "67700      141384               Google Phone,USB-C Charging Cable\n",
              "67768      141450         Bose SoundSport Headphones,Google Phone"
            ]
          },
          "metadata": {
            "tags": []
          },
          "execution_count": 87
        }
      ]
    },
    {
      "cell_type": "markdown",
      "metadata": {
        "id": "42njcxg-Bkwx"
      },
      "source": [
        "Agora com todos os conjuntos listados, podemos montar um gráfico de barras para visualizarmos quais os mais vendidos"
      ]
    },
    {
      "cell_type": "code",
      "metadata": {
        "colab": {
          "base_uri": "https://localhost:8080/",
          "height": 295
        },
        "id": "TmKJAzJaBxAR",
        "outputId": "dcbeae91-ea7c-4df8-9dfd-6d2e6d14698f"
      },
      "source": [
        "contagem_de_conjuntos = df_conjuntos['Conjunto'].value_counts()[:11]\n",
        "\n",
        "plt.barh(contagem_de_conjuntos.index,contagem_de_conjuntos)\n",
        "plt.title('Top 10 produtos mais vendidos em conjunto')\n",
        "plt.xlabel('Quantidade de Ordens')\n",
        "plt.ylabel('Conjunto de produtos')\n",
        "plt.show()"
      ],
      "execution_count": 102,
      "outputs": [
        {
          "output_type": "display_data",
          "data": {
            "image/png": "[encoded data removed]",
            "text/plain": [
              "<Figure size 432x288 with 1 Axes>"
            ]
          },
          "metadata": {
            "tags": [],
            "needs_background": "light"
          }
        }
      ]
    },
    {
      "cell_type": "markdown",
      "metadata": {
        "id": "0-n4G3nMEXI1"
      },
      "source": [
        "Podemos ver que os conjuntos mais vendidos são de **Telefone + Cabo para carregar**. Isso faz muito sentido de acontecer, pois um telefone novo não tem muita serventia sem um cabo para carregá-lo.\n",
        "\n",
        "A maioria dos conjuntos mais vendidos se dão com essa configuração Telefone + Acessório (como um cabo ou fone de ouvido)"
      ]
    }
  ]
}