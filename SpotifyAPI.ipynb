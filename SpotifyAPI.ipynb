{
 "cells": [
  {
   "cell_type": "markdown",
   "metadata": {},
   "source": [
    "# API do Spotify\n",
    "Nesse notebook, usei a API do Spotify para buscar as músicas de determinado artista. A API do Spotify funciona com OAuth2.0, um protocolo de autenticação que requer um token de acesso para realizar as requisições. Os passos que realizem nesse notebook foram os seguintes:\n",
    " - Requisitar o token de acesso\n",
    " - Requisitar os albums do artista\n",
    " - Requisitar as músicas de cada álbum\n",
    " - Trazer esses dados para um dataframe do pandas"
   ]
  },
  {
   "cell_type": "markdown",
   "metadata": {},
   "source": [
    "### Primeiro passo, conseguir o token de acesso\n",
    "Para ter acesso ao token, é necessário fazer uma requisição POST para o URL específico para isso. Essa requisição deverá ter um body e um header que contém informações sobre a aplicação, como ID e Secret. Mais informações [aqui](https://developer.spotify.com/documentation/general/guides/authorization/client-credentials/)."
   ]
  },
  {
   "cell_type": "code",
   "execution_count": 1,
   "metadata": {},
   "outputs": [],
   "source": [
    "# Importar algumas bibliotecas\n",
    "\n",
    "import pandas as pd\n",
    "import requests                            # para realizar as requisições\n",
    "import base64                              # para codificar em base64\n",
    "import json                                # para ler os resultados\n",
    "from config import clientID, clientSecret  # ID e Secret armazenados em outro arquivo"
   ]
  },
  {
   "cell_type": "code",
   "execution_count": 2,
   "metadata": {},
   "outputs": [],
   "source": [
    "# Passar o ID e Secret para base64 para ir no Header da requisição\n",
    "\n",
    "message = f\"{clientID}:{clientSecret}\"\n",
    "message_bytes = message.encode('ascii')\n",
    "base64_bytes = base64.b64encode(message_bytes)\n",
    "base64_message = base64_bytes.decode('ascii')"
   ]
  },
  {
   "cell_type": "code",
   "execution_count": 3,
   "metadata": {},
   "outputs": [],
   "source": [
    "authUrl = \"https://accounts.spotify.com/api/token\"        # endpoint da API\n",
    "authHeader = {'Authorization':'Basic '+ base64_message}   # header da requisição\n",
    "authData = {'grant_type':'client_credentials'}            # body"
   ]
  },
  {
   "cell_type": "code",
   "execution_count": 4,
   "metadata": {},
   "outputs": [],
   "source": [
    "res = requests.post(authUrl, headers=authHeader, data=authData)    # requisição POST, com header e body\n",
    "responseObject = res.json()                                        # resultado da requisição\n",
    "access_token = responseObject['access_token']                      # o token de acesso"
   ]
  },
  {
   "cell_type": "markdown",
   "metadata": {},
   "source": [
    "### Segundo passo, requisitar os albuns do artista\n",
    "Com o token, agora é possível buscar dados da biblioteca do Spotify. A primeira requisição irá buscar os albums do artista, juntamente com seu id que será utilizado no futuro. Essas informações ficarão armazenadas no dataframe `albums`"
   ]
  },
  {
   "cell_type": "code",
   "execution_count": 5,
   "metadata": {},
   "outputs": [],
   "source": [
    "artista = \"Armandinho\""
   ]
  },
  {
   "cell_type": "code",
   "execution_count": 6,
   "metadata": {},
   "outputs": [],
   "source": [
    "# Primeiro precisamos transformar o nome do artista em um ID para ser buscado\n",
    "def getArtistId(artistName):\n",
    "    searchUrl = f\"https://api.spotify.com/v1/search?q={artistName}&type=artist\" \n",
    "    header = {'Authorization': 'Bearer '+ access_token}                                      \n",
    "    res = requests.get(searchUrl, headers=header)\n",
    "    json = res.json()\n",
    "    artistId = json['artists']['items'][0]['id']\n",
    "    \n",
    "    return artistId"
   ]
  },
  {
   "cell_type": "code",
   "execution_count": 7,
   "metadata": {},
   "outputs": [],
   "source": [
    "artistId = getArtistId(artista)                                                    # ID do artista\n",
    "albunsUrl = f\"https://api.spotify.com/v1/artists/{artistId}/albums?include_groups=album\" # endpoint da API\n",
    "header = {'Authorization': 'Bearer '+ access_token}                                      # header da requisição"
   ]
  },
  {
   "cell_type": "code",
   "execution_count": 8,
   "metadata": {},
   "outputs": [],
   "source": [
    "res = requests.get(albunsUrl, headers=header)   # requisição GET\n",
    "albumsObject = res.json()                       # resultado da requisição"
   ]
  },
  {
   "cell_type": "code",
   "execution_count": 9,
   "metadata": {},
   "outputs": [],
   "source": [
    "# Salvar uma lista com o nome dos albums e outra com o ID, para alimentar o dataframe\n",
    "\n",
    "albumNames = [album['name'] for album in albumsObject['items']]\n",
    "albumIds = [album['id'] for album in albumsObject['items']]"
   ]
  },
  {
   "cell_type": "code",
   "execution_count": 10,
   "metadata": {},
   "outputs": [],
   "source": [
    "albuns = pd.DataFrame({\n",
    "    'albumNames' : albumNames,\n",
    "    'albumIds' : albumIds\n",
    "})"
   ]
  },
  {
   "cell_type": "code",
   "execution_count": 11,
   "metadata": {},
   "outputs": [
    {
     "data": {
      "text/html": [
       "<div>\n",
       "<style scoped>\n",
       "    .dataframe tbody tr th:only-of-type {\n",
       "        vertical-align: middle;\n",
       "    }\n",
       "\n",
       "    .dataframe tbody tr th {\n",
       "        vertical-align: top;\n",
       "    }\n",
       "\n",
       "    .dataframe thead th {\n",
       "        text-align: right;\n",
       "    }\n",
       "</style>\n",
       "<table border=\"1\" class=\"dataframe\">\n",
       "  <thead>\n",
       "    <tr style=\"text-align: right;\">\n",
       "      <th></th>\n",
       "      <th>albumNames</th>\n",
       "      <th>albumIds</th>\n",
       "    </tr>\n",
       "  </thead>\n",
       "  <tbody>\n",
       "    <tr>\n",
       "      <th>0</th>\n",
       "      <td>Acústico (Ao Vivo)</td>\n",
       "      <td>6lmVZjhGk3WXhilmHHNbdR</td>\n",
       "    </tr>\n",
       "    <tr>\n",
       "      <th>1</th>\n",
       "      <td>Sol Loiro</td>\n",
       "      <td>0tyhq2pv2sTd4JeIZqeOwR</td>\n",
       "    </tr>\n",
       "    <tr>\n",
       "      <th>2</th>\n",
       "      <td>Ao Vivo em Buenos Aires</td>\n",
       "      <td>6awNZk5um5gkMuPZ8Kg8BD</td>\n",
       "    </tr>\n",
       "  </tbody>\n",
       "</table>\n",
       "</div>"
      ],
      "text/plain": [
       "                albumNames                albumIds\n",
       "0       Acústico (Ao Vivo)  6lmVZjhGk3WXhilmHHNbdR\n",
       "1                Sol Loiro  0tyhq2pv2sTd4JeIZqeOwR\n",
       "2  Ao Vivo em Buenos Aires  6awNZk5um5gkMuPZ8Kg8BD"
      ]
     },
     "execution_count": 11,
     "metadata": {},
     "output_type": "execute_result"
    }
   ],
   "source": [
    "albuns.head(3)  "
   ]
  },
  {
   "cell_type": "markdown",
   "metadata": {},
   "source": [
    "Agora vou remover da base os albums ao vivo, por repetirem as músicas dos outros albums."
   ]
  },
  {
   "cell_type": "code",
   "execution_count": 12,
   "metadata": {},
   "outputs": [],
   "source": [
    "albuns = albuns[~albuns.albumNames.str.contains(\"Ao Vivo\")]                       # remove os albums que contem \"Ao Vivo\"\n",
    "albuns = albuns[albuns[\"albumNames\"] != 'Armandinho Naturalmente'].reset_index()  # remove esse álbum, que também é ao vivo"
   ]
  },
  {
   "cell_type": "code",
   "execution_count": 13,
   "metadata": {},
   "outputs": [
    {
     "data": {
      "text/html": [
       "<div>\n",
       "<style scoped>\n",
       "    .dataframe tbody tr th:only-of-type {\n",
       "        vertical-align: middle;\n",
       "    }\n",
       "\n",
       "    .dataframe tbody tr th {\n",
       "        vertical-align: top;\n",
       "    }\n",
       "\n",
       "    .dataframe thead th {\n",
       "        text-align: right;\n",
       "    }\n",
       "</style>\n",
       "<table border=\"1\" class=\"dataframe\">\n",
       "  <thead>\n",
       "    <tr style=\"text-align: right;\">\n",
       "      <th></th>\n",
       "      <th>index</th>\n",
       "      <th>albumNames</th>\n",
       "      <th>albumIds</th>\n",
       "    </tr>\n",
       "  </thead>\n",
       "  <tbody>\n",
       "    <tr>\n",
       "      <th>0</th>\n",
       "      <td>1</td>\n",
       "      <td>Sol Loiro</td>\n",
       "      <td>0tyhq2pv2sTd4JeIZqeOwR</td>\n",
       "    </tr>\n",
       "    <tr>\n",
       "      <th>1</th>\n",
       "      <td>3</td>\n",
       "      <td>Volume 5</td>\n",
       "      <td>6E593UtMC9NKFZisq6VO3k</td>\n",
       "    </tr>\n",
       "    <tr>\n",
       "      <th>2</th>\n",
       "      <td>5</td>\n",
       "      <td>Armandinho</td>\n",
       "      <td>1Nearg41kDiDoe4jHQpOAT</td>\n",
       "    </tr>\n",
       "    <tr>\n",
       "      <th>3</th>\n",
       "      <td>6</td>\n",
       "      <td>Casinha</td>\n",
       "      <td>4LEeNDHmnXsM04yoJARCYu</td>\n",
       "    </tr>\n",
       "    <tr>\n",
       "      <th>4</th>\n",
       "      <td>7</td>\n",
       "      <td>Semente</td>\n",
       "      <td>5ankef7uixssXhd76nE2Aw</td>\n",
       "    </tr>\n",
       "  </tbody>\n",
       "</table>\n",
       "</div>"
      ],
      "text/plain": [
       "   index  albumNames                albumIds\n",
       "0      1   Sol Loiro  0tyhq2pv2sTd4JeIZqeOwR\n",
       "1      3    Volume 5  6E593UtMC9NKFZisq6VO3k\n",
       "2      5  Armandinho  1Nearg41kDiDoe4jHQpOAT\n",
       "3      6     Casinha  4LEeNDHmnXsM04yoJARCYu\n",
       "4      7     Semente  5ankef7uixssXhd76nE2Aw"
      ]
     },
     "execution_count": 13,
     "metadata": {},
     "output_type": "execute_result"
    }
   ],
   "source": [
    "albuns"
   ]
  },
  {
   "cell_type": "markdown",
   "metadata": {},
   "source": [
    "### Terceiro passo, pegar as músicas a partir dos albuns\n",
    "Com os albums e suas IDs, podemos requisitar as músicas que constam em cada um deles. A estrutura dessa requisição é semelhante a anterior, só muda o endpoint. Os nomes das músicas e seus albums ficarão armazenadas do dataframe `df`"
   ]
  },
  {
   "cell_type": "code",
   "execution_count": 14,
   "metadata": {},
   "outputs": [],
   "source": [
    "# Defini uma função que, a partir da ID do album, retorna uma lista com as faixas\n",
    "\n",
    "def getAlbumTracks(albumId):\n",
    "    tracksUrl = f\"https://api.spotify.com/v1/albums/{albumId}/tracks\"   # endpoint da api\n",
    "    header = {'Authorization': 'Bearer '+ access_token}                 # header da requisição, com o mesmo token de antes\n",
    "\n",
    "    res = requests.get(tracksUrl, headers=header)                       # requisição\n",
    "    tracksObject = res.json()                                           # resultado da requisição\n",
    "    \n",
    "    trackNames = [track['name'] for track in tracksObject['items']]     # nomes das faixas armazenados nessa lista\n",
    "    \n",
    "    return trackNames"
   ]
  },
  {
   "cell_type": "code",
   "execution_count": 15,
   "metadata": {},
   "outputs": [],
   "source": [
    "# Fiz um loop que vai pegar o dataframe albums e vai iterar ele, pegando as músicas de cada um e armazendando no dataframe df\n",
    "\n",
    "songsList = []\n",
    "albumsList = []\n",
    "\n",
    "for index, row in albuns.iterrows():\n",
    "    albumSongs = getAlbumTracks(albuns['albumIds'][index])\n",
    "    for i, r in enumerate(albumSongs):\n",
    "        songsList.append(albumSongs[i])\n",
    "        albumsList.append(row['albumNames'])\n",
    "        \n",
    "df = pd.DataFrame({\n",
    "    'música': songsList,\n",
    "    'album': albumsList\n",
    "})"
   ]
  },
  {
   "cell_type": "code",
   "execution_count": 16,
   "metadata": {},
   "outputs": [
    {
     "data": {
      "text/html": [
       "<div>\n",
       "<style scoped>\n",
       "    .dataframe tbody tr th:only-of-type {\n",
       "        vertical-align: middle;\n",
       "    }\n",
       "\n",
       "    .dataframe tbody tr th {\n",
       "        vertical-align: top;\n",
       "    }\n",
       "\n",
       "    .dataframe thead th {\n",
       "        text-align: right;\n",
       "    }\n",
       "</style>\n",
       "<table border=\"1\" class=\"dataframe\">\n",
       "  <thead>\n",
       "    <tr style=\"text-align: right;\">\n",
       "      <th></th>\n",
       "      <th>música</th>\n",
       "      <th>album</th>\n",
       "    </tr>\n",
       "  </thead>\n",
       "  <tbody>\n",
       "    <tr>\n",
       "      <th>47</th>\n",
       "      <td>O Leãozinho</td>\n",
       "      <td>Casinha</td>\n",
       "    </tr>\n",
       "    <tr>\n",
       "      <th>36</th>\n",
       "      <td>Outra Noite Que Se Vai</td>\n",
       "      <td>Armandinho</td>\n",
       "    </tr>\n",
       "    <tr>\n",
       "      <th>62</th>\n",
       "      <td>Eu Juro</td>\n",
       "      <td>Semente</td>\n",
       "    </tr>\n",
       "    <tr>\n",
       "      <th>17</th>\n",
       "      <td>Alma Regueira</td>\n",
       "      <td>Volume 5</td>\n",
       "    </tr>\n",
       "    <tr>\n",
       "      <th>54</th>\n",
       "      <td>A Filha</td>\n",
       "      <td>Semente</td>\n",
       "    </tr>\n",
       "    <tr>\n",
       "      <th>4</th>\n",
       "      <td>Nada Mudou</td>\n",
       "      <td>Sol Loiro</td>\n",
       "    </tr>\n",
       "  </tbody>\n",
       "</table>\n",
       "</div>"
      ],
      "text/plain": [
       "                    música       album\n",
       "47             O Leãozinho     Casinha\n",
       "36  Outra Noite Que Se Vai  Armandinho\n",
       "62                 Eu Juro     Semente\n",
       "17           Alma Regueira    Volume 5\n",
       "54                 A Filha     Semente\n",
       "4               Nada Mudou   Sol Loiro"
      ]
     },
     "execution_count": 16,
     "metadata": {},
     "output_type": "execute_result"
    }
   ],
   "source": [
    "df.sample(6)"
   ]
  },
  {
   "cell_type": "markdown",
   "metadata": {},
   "source": [
    "Como resultado, temos um dataframe com as músicas do artista e seus respectivos albums, retirados da biblioteca do Spotify a partir da API"
   ]
  }
 ],
 "metadata": {
  "kernelspec": {
   "display_name": "Python 3",
   "language": "python",
   "name": "python3"
  },
  "language_info": {
   "codemirror_mode": {
    "name": "ipython",
    "version": 3
   },
   "file_extension": ".py",
   "mimetype": "text/x-python",
   "name": "python",
   "nbconvert_exporter": "python",
   "pygments_lexer": "ipython3",
   "version": "3.6.5"
  }
 },
 "nbformat": 4,
 "nbformat_minor": 2
}
